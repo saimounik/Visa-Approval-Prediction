{
 "cells": [
  {
   "cell_type": "code",
   "execution_count": 1,
   "id": "fb69254f",
   "metadata": {},
   "outputs": [],
   "source": [
    "# Importing all required libraries\n",
    "\n",
    "\n",
    "import pandas as pd\n",
    "import numpy as np\n",
    "import matplotlib.pyplot as plt\n",
    "%matplotlib inline\n",
    "import random"
   ]
  },
  {
   "cell_type": "code",
   "execution_count": null,
   "id": "95e4042b",
   "metadata": {},
   "outputs": [],
   "source": []
  },
  {
   "cell_type": "code",
   "execution_count": 2,
   "id": "ce6814d5",
   "metadata": {},
   "outputs": [],
   "source": [
    "import sklearn"
   ]
  },
  {
   "cell_type": "code",
   "execution_count": 3,
   "id": "b69f7dcc",
   "metadata": {},
   "outputs": [],
   "source": [
    "#Importing visa application dataset as dataset using pandas, We will use this as training dataset\n",
    "dataset = pd.read_csv('v_applications.csv')"
   ]
  },
  {
   "cell_type": "code",
   "execution_count": 4,
   "id": "73ecd8f2",
   "metadata": {
    "scrolled": true
   },
   "outputs": [
    {
     "data": {
      "text/html": [
       "<div>\n",
       "<style scoped>\n",
       "    .dataframe tbody tr th:only-of-type {\n",
       "        vertical-align: middle;\n",
       "    }\n",
       "\n",
       "    .dataframe tbody tr th {\n",
       "        vertical-align: top;\n",
       "    }\n",
       "\n",
       "    .dataframe thead th {\n",
       "        text-align: right;\n",
       "    }\n",
       "</style>\n",
       "<table border=\"1\" class=\"dataframe\">\n",
       "  <thead>\n",
       "    <tr style=\"text-align: right;\">\n",
       "      <th></th>\n",
       "      <th>Applicant_ID</th>\n",
       "      <th>Gender</th>\n",
       "      <th>Married</th>\n",
       "      <th>Dependents</th>\n",
       "      <th>Education</th>\n",
       "      <th>Self_Employed</th>\n",
       "      <th>ApplicantIncome</th>\n",
       "      <th>CoapplicantIncome</th>\n",
       "      <th>University Rank</th>\n",
       "      <th>Visa_Status</th>\n",
       "    </tr>\n",
       "  </thead>\n",
       "  <tbody>\n",
       "    <tr>\n",
       "      <th>0</th>\n",
       "      <td>LP001002</td>\n",
       "      <td>Male</td>\n",
       "      <td>No</td>\n",
       "      <td>0</td>\n",
       "      <td>Graduate</td>\n",
       "      <td>No</td>\n",
       "      <td>5849.0</td>\n",
       "      <td>0.0</td>\n",
       "      <td>NaN</td>\n",
       "      <td>Y</td>\n",
       "    </tr>\n",
       "    <tr>\n",
       "      <th>1</th>\n",
       "      <td>LP001003</td>\n",
       "      <td>Male</td>\n",
       "      <td>Yes</td>\n",
       "      <td>1</td>\n",
       "      <td>Graduate</td>\n",
       "      <td>No</td>\n",
       "      <td>4583.0</td>\n",
       "      <td>1508.0</td>\n",
       "      <td>128.0</td>\n",
       "      <td>N</td>\n",
       "    </tr>\n",
       "    <tr>\n",
       "      <th>2</th>\n",
       "      <td>LP001005</td>\n",
       "      <td>Male</td>\n",
       "      <td>Yes</td>\n",
       "      <td>0</td>\n",
       "      <td>Graduate</td>\n",
       "      <td>Yes</td>\n",
       "      <td>3000.0</td>\n",
       "      <td>0.0</td>\n",
       "      <td>66.0</td>\n",
       "      <td>Y</td>\n",
       "    </tr>\n",
       "    <tr>\n",
       "      <th>3</th>\n",
       "      <td>LP001006</td>\n",
       "      <td>Male</td>\n",
       "      <td>Yes</td>\n",
       "      <td>0</td>\n",
       "      <td>Not Graduate</td>\n",
       "      <td>No</td>\n",
       "      <td>2583.0</td>\n",
       "      <td>2358.0</td>\n",
       "      <td>120.0</td>\n",
       "      <td>Y</td>\n",
       "    </tr>\n",
       "    <tr>\n",
       "      <th>4</th>\n",
       "      <td>LP001008</td>\n",
       "      <td>Male</td>\n",
       "      <td>No</td>\n",
       "      <td>0</td>\n",
       "      <td>Graduate</td>\n",
       "      <td>No</td>\n",
       "      <td>6000.0</td>\n",
       "      <td>0.0</td>\n",
       "      <td>141.0</td>\n",
       "      <td>Y</td>\n",
       "    </tr>\n",
       "    <tr>\n",
       "      <th>...</th>\n",
       "      <td>...</td>\n",
       "      <td>...</td>\n",
       "      <td>...</td>\n",
       "      <td>...</td>\n",
       "      <td>...</td>\n",
       "      <td>...</td>\n",
       "      <td>...</td>\n",
       "      <td>...</td>\n",
       "      <td>...</td>\n",
       "      <td>...</td>\n",
       "    </tr>\n",
       "    <tr>\n",
       "      <th>395</th>\n",
       "      <td>LP002272</td>\n",
       "      <td>Male</td>\n",
       "      <td>Yes</td>\n",
       "      <td>2</td>\n",
       "      <td>Graduate</td>\n",
       "      <td>No</td>\n",
       "      <td>3276.0</td>\n",
       "      <td>484.0</td>\n",
       "      <td>135.0</td>\n",
       "      <td>Y</td>\n",
       "    </tr>\n",
       "    <tr>\n",
       "      <th>396</th>\n",
       "      <td>LP002277</td>\n",
       "      <td>Female</td>\n",
       "      <td>No</td>\n",
       "      <td>0</td>\n",
       "      <td>Graduate</td>\n",
       "      <td>No</td>\n",
       "      <td>3180.0</td>\n",
       "      <td>0.0</td>\n",
       "      <td>71.0</td>\n",
       "      <td>N</td>\n",
       "    </tr>\n",
       "    <tr>\n",
       "      <th>397</th>\n",
       "      <td>LP002281</td>\n",
       "      <td>Male</td>\n",
       "      <td>Yes</td>\n",
       "      <td>0</td>\n",
       "      <td>Graduate</td>\n",
       "      <td>No</td>\n",
       "      <td>3033.0</td>\n",
       "      <td>1459.0</td>\n",
       "      <td>95.0</td>\n",
       "      <td>Y</td>\n",
       "    </tr>\n",
       "    <tr>\n",
       "      <th>398</th>\n",
       "      <td>LP002284</td>\n",
       "      <td>Male</td>\n",
       "      <td>No</td>\n",
       "      <td>0</td>\n",
       "      <td>Not Graduate</td>\n",
       "      <td>No</td>\n",
       "      <td>3902.0</td>\n",
       "      <td>1666.0</td>\n",
       "      <td>109.0</td>\n",
       "      <td>Y</td>\n",
       "    </tr>\n",
       "    <tr>\n",
       "      <th>399</th>\n",
       "      <td>LP002287</td>\n",
       "      <td>Female</td>\n",
       "      <td>No</td>\n",
       "      <td>0</td>\n",
       "      <td>Graduate</td>\n",
       "      <td>No</td>\n",
       "      <td>1500.0</td>\n",
       "      <td>1800.0</td>\n",
       "      <td>103.0</td>\n",
       "      <td>N</td>\n",
       "    </tr>\n",
       "  </tbody>\n",
       "</table>\n",
       "<p>400 rows × 10 columns</p>\n",
       "</div>"
      ],
      "text/plain": [
       "    Applicant_ID  Gender Married Dependents     Education Self_Employed  \\\n",
       "0       LP001002    Male      No          0      Graduate            No   \n",
       "1       LP001003    Male     Yes          1      Graduate            No   \n",
       "2       LP001005    Male     Yes          0      Graduate           Yes   \n",
       "3       LP001006    Male     Yes          0  Not Graduate            No   \n",
       "4       LP001008    Male      No          0      Graduate            No   \n",
       "..           ...     ...     ...        ...           ...           ...   \n",
       "395     LP002272    Male     Yes          2      Graduate            No   \n",
       "396     LP002277  Female      No          0      Graduate            No   \n",
       "397     LP002281    Male     Yes          0      Graduate            No   \n",
       "398     LP002284    Male      No          0  Not Graduate            No   \n",
       "399     LP002287  Female      No          0      Graduate            No   \n",
       "\n",
       "     ApplicantIncome  CoapplicantIncome  University Rank Visa_Status  \n",
       "0             5849.0                0.0              NaN           Y  \n",
       "1             4583.0             1508.0            128.0           N  \n",
       "2             3000.0                0.0             66.0           Y  \n",
       "3             2583.0             2358.0            120.0           Y  \n",
       "4             6000.0                0.0            141.0           Y  \n",
       "..               ...                ...              ...         ...  \n",
       "395           3276.0              484.0            135.0           Y  \n",
       "396           3180.0                0.0             71.0           N  \n",
       "397           3033.0             1459.0             95.0           Y  \n",
       "398           3902.0             1666.0            109.0           Y  \n",
       "399           1500.0             1800.0            103.0           N  \n",
       "\n",
       "[400 rows x 10 columns]"
      ]
     },
     "execution_count": 4,
     "metadata": {},
     "output_type": "execute_result"
    }
   ],
   "source": [
    "#Exploring dataset\n",
    "dataset.head(400)"
   ]
  },
  {
   "cell_type": "code",
   "execution_count": 5,
   "id": "391bbee0",
   "metadata": {
    "scrolled": false
   },
   "outputs": [
    {
     "data": {
      "text/html": [
       "<div>\n",
       "<style scoped>\n",
       "    .dataframe tbody tr th:only-of-type {\n",
       "        vertical-align: middle;\n",
       "    }\n",
       "\n",
       "    .dataframe tbody tr th {\n",
       "        vertical-align: top;\n",
       "    }\n",
       "\n",
       "    .dataframe thead th {\n",
       "        text-align: right;\n",
       "    }\n",
       "</style>\n",
       "<table border=\"1\" class=\"dataframe\">\n",
       "  <thead>\n",
       "    <tr style=\"text-align: right;\">\n",
       "      <th></th>\n",
       "      <th>Applicant_ID</th>\n",
       "      <th>Gender</th>\n",
       "      <th>Married</th>\n",
       "      <th>Dependents</th>\n",
       "      <th>Education</th>\n",
       "      <th>Self_Employed</th>\n",
       "      <th>ApplicantIncome</th>\n",
       "      <th>CoapplicantIncome</th>\n",
       "      <th>University Rank</th>\n",
       "      <th>Visa_Status</th>\n",
       "    </tr>\n",
       "  </thead>\n",
       "  <tbody>\n",
       "    <tr>\n",
       "      <th>0</th>\n",
       "      <td>LP001002</td>\n",
       "      <td>Male</td>\n",
       "      <td>No</td>\n",
       "      <td>0</td>\n",
       "      <td>Graduate</td>\n",
       "      <td>No</td>\n",
       "      <td>5849.0</td>\n",
       "      <td>0.0</td>\n",
       "      <td>521</td>\n",
       "      <td>Y</td>\n",
       "    </tr>\n",
       "    <tr>\n",
       "      <th>1</th>\n",
       "      <td>LP001003</td>\n",
       "      <td>Male</td>\n",
       "      <td>Yes</td>\n",
       "      <td>1</td>\n",
       "      <td>Graduate</td>\n",
       "      <td>No</td>\n",
       "      <td>4583.0</td>\n",
       "      <td>1508.0</td>\n",
       "      <td>416</td>\n",
       "      <td>N</td>\n",
       "    </tr>\n",
       "    <tr>\n",
       "      <th>2</th>\n",
       "      <td>LP001005</td>\n",
       "      <td>Male</td>\n",
       "      <td>Yes</td>\n",
       "      <td>0</td>\n",
       "      <td>Graduate</td>\n",
       "      <td>Yes</td>\n",
       "      <td>3000.0</td>\n",
       "      <td>0.0</td>\n",
       "      <td>322</td>\n",
       "      <td>Y</td>\n",
       "    </tr>\n",
       "    <tr>\n",
       "      <th>3</th>\n",
       "      <td>LP001006</td>\n",
       "      <td>Male</td>\n",
       "      <td>Yes</td>\n",
       "      <td>0</td>\n",
       "      <td>Not Graduate</td>\n",
       "      <td>No</td>\n",
       "      <td>2583.0</td>\n",
       "      <td>2358.0</td>\n",
       "      <td>293</td>\n",
       "      <td>Y</td>\n",
       "    </tr>\n",
       "    <tr>\n",
       "      <th>4</th>\n",
       "      <td>LP001008</td>\n",
       "      <td>Male</td>\n",
       "      <td>No</td>\n",
       "      <td>0</td>\n",
       "      <td>Graduate</td>\n",
       "      <td>No</td>\n",
       "      <td>6000.0</td>\n",
       "      <td>0.0</td>\n",
       "      <td>602</td>\n",
       "      <td>Y</td>\n",
       "    </tr>\n",
       "    <tr>\n",
       "      <th>...</th>\n",
       "      <td>...</td>\n",
       "      <td>...</td>\n",
       "      <td>...</td>\n",
       "      <td>...</td>\n",
       "      <td>...</td>\n",
       "      <td>...</td>\n",
       "      <td>...</td>\n",
       "      <td>...</td>\n",
       "      <td>...</td>\n",
       "      <td>...</td>\n",
       "    </tr>\n",
       "    <tr>\n",
       "      <th>609</th>\n",
       "      <td>NaN</td>\n",
       "      <td>NaN</td>\n",
       "      <td>NaN</td>\n",
       "      <td>NaN</td>\n",
       "      <td>NaN</td>\n",
       "      <td>NaN</td>\n",
       "      <td>NaN</td>\n",
       "      <td>NaN</td>\n",
       "      <td>512</td>\n",
       "      <td>NaN</td>\n",
       "    </tr>\n",
       "    <tr>\n",
       "      <th>610</th>\n",
       "      <td>NaN</td>\n",
       "      <td>NaN</td>\n",
       "      <td>NaN</td>\n",
       "      <td>NaN</td>\n",
       "      <td>NaN</td>\n",
       "      <td>NaN</td>\n",
       "      <td>NaN</td>\n",
       "      <td>NaN</td>\n",
       "      <td>119</td>\n",
       "      <td>NaN</td>\n",
       "    </tr>\n",
       "    <tr>\n",
       "      <th>611</th>\n",
       "      <td>NaN</td>\n",
       "      <td>NaN</td>\n",
       "      <td>NaN</td>\n",
       "      <td>NaN</td>\n",
       "      <td>NaN</td>\n",
       "      <td>NaN</td>\n",
       "      <td>NaN</td>\n",
       "      <td>NaN</td>\n",
       "      <td>204</td>\n",
       "      <td>NaN</td>\n",
       "    </tr>\n",
       "    <tr>\n",
       "      <th>612</th>\n",
       "      <td>NaN</td>\n",
       "      <td>NaN</td>\n",
       "      <td>NaN</td>\n",
       "      <td>NaN</td>\n",
       "      <td>NaN</td>\n",
       "      <td>NaN</td>\n",
       "      <td>NaN</td>\n",
       "      <td>NaN</td>\n",
       "      <td>437</td>\n",
       "      <td>NaN</td>\n",
       "    </tr>\n",
       "    <tr>\n",
       "      <th>613</th>\n",
       "      <td>NaN</td>\n",
       "      <td>NaN</td>\n",
       "      <td>NaN</td>\n",
       "      <td>NaN</td>\n",
       "      <td>NaN</td>\n",
       "      <td>NaN</td>\n",
       "      <td>NaN</td>\n",
       "      <td>NaN</td>\n",
       "      <td>519</td>\n",
       "      <td>NaN</td>\n",
       "    </tr>\n",
       "  </tbody>\n",
       "</table>\n",
       "<p>614 rows × 10 columns</p>\n",
       "</div>"
      ],
      "text/plain": [
       "    Applicant_ID Gender Married Dependents     Education Self_Employed  \\\n",
       "0       LP001002   Male      No          0      Graduate            No   \n",
       "1       LP001003   Male     Yes          1      Graduate            No   \n",
       "2       LP001005   Male     Yes          0      Graduate           Yes   \n",
       "3       LP001006   Male     Yes          0  Not Graduate            No   \n",
       "4       LP001008   Male      No          0      Graduate            No   \n",
       "..           ...    ...     ...        ...           ...           ...   \n",
       "609          NaN    NaN     NaN        NaN           NaN           NaN   \n",
       "610          NaN    NaN     NaN        NaN           NaN           NaN   \n",
       "611          NaN    NaN     NaN        NaN           NaN           NaN   \n",
       "612          NaN    NaN     NaN        NaN           NaN           NaN   \n",
       "613          NaN    NaN     NaN        NaN           NaN           NaN   \n",
       "\n",
       "     ApplicantIncome  CoapplicantIncome  University Rank Visa_Status  \n",
       "0             5849.0                0.0              521           Y  \n",
       "1             4583.0             1508.0              416           N  \n",
       "2             3000.0                0.0              322           Y  \n",
       "3             2583.0             2358.0              293           Y  \n",
       "4             6000.0                0.0              602           Y  \n",
       "..               ...                ...              ...         ...  \n",
       "609              NaN                NaN              512         NaN  \n",
       "610              NaN                NaN              119         NaN  \n",
       "611              NaN                NaN              204         NaN  \n",
       "612              NaN                NaN              437         NaN  \n",
       "613              NaN                NaN              519         NaN  \n",
       "\n",
       "[614 rows x 10 columns]"
      ]
     },
     "execution_count": 5,
     "metadata": {},
     "output_type": "execute_result"
    }
   ],
   "source": [
    "# Modifying the University Ranking column with integers, \n",
    "# For that we will generate random numbers which is similar to row count and replacing that numbers to existing column values\n",
    "# Gerating 614 random integers between 1 and 614 (inclusive)\n",
    "random_numbers = [random.randint(1, 614) for _ in range(dataset.shape[0])]\n",
    "\n",
    "# Inserting random integers as a new column 'University Rank'\n",
    "dataset['University Rank'] = random_numbers\n",
    "\n",
    "# Displaying the updated DataFrame\n",
    "dataset"
   ]
  },
  {
   "cell_type": "code",
   "execution_count": 6,
   "id": "a43ab893",
   "metadata": {},
   "outputs": [],
   "source": [
    "# Now creating another new column called top_university which contains Y or N values\n",
    "# All universities which as ranking between 1 to 100 are considered as top universiy\n",
    "# Creating a new column 'Top 100' with 'N' for universities in the top 100 and 'Y' otherwise\n",
    "\n",
    "\n",
    "existing_data = pd.DataFrame(dataset)\n",
    "\n",
    "# Creating a new column 'Top University' with 'N' for universities in the top 100 and 'Y' otherwise\n",
    "existing_data['Top University'] = ['N' if rank <= 100 else 'Y' for rank in existing_data['University Rank']]"
   ]
  },
  {
   "cell_type": "code",
   "execution_count": 7,
   "id": "45156933",
   "metadata": {
    "scrolled": false
   },
   "outputs": [
    {
     "data": {
      "text/html": [
       "<div>\n",
       "<style scoped>\n",
       "    .dataframe tbody tr th:only-of-type {\n",
       "        vertical-align: middle;\n",
       "    }\n",
       "\n",
       "    .dataframe tbody tr th {\n",
       "        vertical-align: top;\n",
       "    }\n",
       "\n",
       "    .dataframe thead th {\n",
       "        text-align: right;\n",
       "    }\n",
       "</style>\n",
       "<table border=\"1\" class=\"dataframe\">\n",
       "  <thead>\n",
       "    <tr style=\"text-align: right;\">\n",
       "      <th></th>\n",
       "      <th>Applicant_ID</th>\n",
       "      <th>Gender</th>\n",
       "      <th>Married</th>\n",
       "      <th>Dependents</th>\n",
       "      <th>Education</th>\n",
       "      <th>Self_Employed</th>\n",
       "      <th>ApplicantIncome</th>\n",
       "      <th>CoapplicantIncome</th>\n",
       "      <th>University Rank</th>\n",
       "      <th>Visa_Status</th>\n",
       "      <th>Top University</th>\n",
       "    </tr>\n",
       "  </thead>\n",
       "  <tbody>\n",
       "    <tr>\n",
       "      <th>609</th>\n",
       "      <td>NaN</td>\n",
       "      <td>NaN</td>\n",
       "      <td>NaN</td>\n",
       "      <td>NaN</td>\n",
       "      <td>NaN</td>\n",
       "      <td>NaN</td>\n",
       "      <td>NaN</td>\n",
       "      <td>NaN</td>\n",
       "      <td>512</td>\n",
       "      <td>NaN</td>\n",
       "      <td>Y</td>\n",
       "    </tr>\n",
       "    <tr>\n",
       "      <th>610</th>\n",
       "      <td>NaN</td>\n",
       "      <td>NaN</td>\n",
       "      <td>NaN</td>\n",
       "      <td>NaN</td>\n",
       "      <td>NaN</td>\n",
       "      <td>NaN</td>\n",
       "      <td>NaN</td>\n",
       "      <td>NaN</td>\n",
       "      <td>119</td>\n",
       "      <td>NaN</td>\n",
       "      <td>Y</td>\n",
       "    </tr>\n",
       "    <tr>\n",
       "      <th>611</th>\n",
       "      <td>NaN</td>\n",
       "      <td>NaN</td>\n",
       "      <td>NaN</td>\n",
       "      <td>NaN</td>\n",
       "      <td>NaN</td>\n",
       "      <td>NaN</td>\n",
       "      <td>NaN</td>\n",
       "      <td>NaN</td>\n",
       "      <td>204</td>\n",
       "      <td>NaN</td>\n",
       "      <td>Y</td>\n",
       "    </tr>\n",
       "    <tr>\n",
       "      <th>612</th>\n",
       "      <td>NaN</td>\n",
       "      <td>NaN</td>\n",
       "      <td>NaN</td>\n",
       "      <td>NaN</td>\n",
       "      <td>NaN</td>\n",
       "      <td>NaN</td>\n",
       "      <td>NaN</td>\n",
       "      <td>NaN</td>\n",
       "      <td>437</td>\n",
       "      <td>NaN</td>\n",
       "      <td>Y</td>\n",
       "    </tr>\n",
       "    <tr>\n",
       "      <th>613</th>\n",
       "      <td>NaN</td>\n",
       "      <td>NaN</td>\n",
       "      <td>NaN</td>\n",
       "      <td>NaN</td>\n",
       "      <td>NaN</td>\n",
       "      <td>NaN</td>\n",
       "      <td>NaN</td>\n",
       "      <td>NaN</td>\n",
       "      <td>519</td>\n",
       "      <td>NaN</td>\n",
       "      <td>Y</td>\n",
       "    </tr>\n",
       "  </tbody>\n",
       "</table>\n",
       "</div>"
      ],
      "text/plain": [
       "    Applicant_ID Gender Married Dependents Education Self_Employed  \\\n",
       "609          NaN    NaN     NaN        NaN       NaN           NaN   \n",
       "610          NaN    NaN     NaN        NaN       NaN           NaN   \n",
       "611          NaN    NaN     NaN        NaN       NaN           NaN   \n",
       "612          NaN    NaN     NaN        NaN       NaN           NaN   \n",
       "613          NaN    NaN     NaN        NaN       NaN           NaN   \n",
       "\n",
       "     ApplicantIncome  CoapplicantIncome  University Rank Visa_Status  \\\n",
       "609              NaN                NaN              512         NaN   \n",
       "610              NaN                NaN              119         NaN   \n",
       "611              NaN                NaN              204         NaN   \n",
       "612              NaN                NaN              437         NaN   \n",
       "613              NaN                NaN              519         NaN   \n",
       "\n",
       "    Top University  \n",
       "609              Y  \n",
       "610              Y  \n",
       "611              Y  \n",
       "612              Y  \n",
       "613              Y  "
      ]
     },
     "execution_count": 7,
     "metadata": {},
     "output_type": "execute_result"
    }
   ],
   "source": [
    "# Exploring last rows and columns of dataset\n",
    "dataset.tail()"
   ]
  },
  {
   "cell_type": "code",
   "execution_count": 8,
   "id": "3222f9aa",
   "metadata": {
    "scrolled": true
   },
   "outputs": [
    {
     "name": "stdout",
     "output_type": "stream",
     "text": [
      "(614, 11)\n"
     ]
    }
   ],
   "source": [
    "#Exploring dataset shape\n",
    "dataset.shape\n",
    "\n",
    "print(dataset.shape)\n",
    "#This dataset have 614 rows and 10 columns"
   ]
  },
  {
   "cell_type": "code",
   "execution_count": 9,
   "id": "0c6ae98a",
   "metadata": {
    "scrolled": true
   },
   "outputs": [
    {
     "name": "stdout",
     "output_type": "stream",
     "text": [
      "<class 'pandas.core.frame.DataFrame'>\n",
      "RangeIndex: 614 entries, 0 to 613\n",
      "Data columns (total 11 columns):\n",
      " #   Column             Non-Null Count  Dtype  \n",
      "---  ------             --------------  -----  \n",
      " 0   Applicant_ID       594 non-null    object \n",
      " 1   Gender             581 non-null    object \n",
      " 2   Married            591 non-null    object \n",
      " 3   Dependents         580 non-null    object \n",
      " 4   Education          594 non-null    object \n",
      " 5   Self_Employed      564 non-null    object \n",
      " 6   ApplicantIncome    594 non-null    float64\n",
      " 7   CoapplicantIncome  594 non-null    float64\n",
      " 8   University Rank    614 non-null    int64  \n",
      " 9   Visa_Status        594 non-null    object \n",
      " 10  Top University     614 non-null    object \n",
      "dtypes: float64(2), int64(1), object(8)\n",
      "memory usage: 52.9+ KB\n"
     ]
    }
   ],
   "source": [
    "#Using info function to check the missing values and datatypes\n",
    "dataset.info()"
   ]
  },
  {
   "cell_type": "code",
   "execution_count": 10,
   "id": "755946e6",
   "metadata": {
    "scrolled": true
   },
   "outputs": [
    {
     "data": {
      "text/html": [
       "<div>\n",
       "<style scoped>\n",
       "    .dataframe tbody tr th:only-of-type {\n",
       "        vertical-align: middle;\n",
       "    }\n",
       "\n",
       "    .dataframe tbody tr th {\n",
       "        vertical-align: top;\n",
       "    }\n",
       "\n",
       "    .dataframe thead th {\n",
       "        text-align: right;\n",
       "    }\n",
       "</style>\n",
       "<table border=\"1\" class=\"dataframe\">\n",
       "  <thead>\n",
       "    <tr style=\"text-align: right;\">\n",
       "      <th></th>\n",
       "      <th>ApplicantIncome</th>\n",
       "      <th>CoapplicantIncome</th>\n",
       "      <th>University Rank</th>\n",
       "    </tr>\n",
       "  </thead>\n",
       "  <tbody>\n",
       "    <tr>\n",
       "      <th>count</th>\n",
       "      <td>594.000000</td>\n",
       "      <td>594.000000</td>\n",
       "      <td>614.000000</td>\n",
       "    </tr>\n",
       "    <tr>\n",
       "      <th>mean</th>\n",
       "      <td>5400.178451</td>\n",
       "      <td>1575.393805</td>\n",
       "      <td>308.794788</td>\n",
       "    </tr>\n",
       "    <tr>\n",
       "      <th>std</th>\n",
       "      <td>6175.393197</td>\n",
       "      <td>2463.471660</td>\n",
       "      <td>177.247691</td>\n",
       "    </tr>\n",
       "    <tr>\n",
       "      <th>min</th>\n",
       "      <td>150.000000</td>\n",
       "      <td>0.000000</td>\n",
       "      <td>1.000000</td>\n",
       "    </tr>\n",
       "    <tr>\n",
       "      <th>25%</th>\n",
       "      <td>2843.000000</td>\n",
       "      <td>0.000000</td>\n",
       "      <td>161.750000</td>\n",
       "    </tr>\n",
       "    <tr>\n",
       "      <th>50%</th>\n",
       "      <td>3787.500000</td>\n",
       "      <td>1239.500000</td>\n",
       "      <td>317.000000</td>\n",
       "    </tr>\n",
       "    <tr>\n",
       "      <th>75%</th>\n",
       "      <td>5746.000000</td>\n",
       "      <td>2297.250000</td>\n",
       "      <td>454.750000</td>\n",
       "    </tr>\n",
       "    <tr>\n",
       "      <th>max</th>\n",
       "      <td>81000.000000</td>\n",
       "      <td>33837.000000</td>\n",
       "      <td>609.000000</td>\n",
       "    </tr>\n",
       "  </tbody>\n",
       "</table>\n",
       "</div>"
      ],
      "text/plain": [
       "       ApplicantIncome  CoapplicantIncome  University Rank\n",
       "count       594.000000         594.000000       614.000000\n",
       "mean       5400.178451        1575.393805       308.794788\n",
       "std        6175.393197        2463.471660       177.247691\n",
       "min         150.000000           0.000000         1.000000\n",
       "25%        2843.000000           0.000000       161.750000\n",
       "50%        3787.500000        1239.500000       317.000000\n",
       "75%        5746.000000        2297.250000       454.750000\n",
       "max       81000.000000       33837.000000       609.000000"
      ]
     },
     "execution_count": 10,
     "metadata": {},
     "output_type": "execute_result"
    }
   ],
   "source": [
    "#Describing dataset to udnerstand statistical analysis of data like mean, count etc\n",
    "dataset.describe()"
   ]
  },
  {
   "cell_type": "code",
   "execution_count": 11,
   "id": "7ba3be8d",
   "metadata": {
    "scrolled": false
   },
   "outputs": [
    {
     "data": {
      "text/html": [
       "<div>\n",
       "<style scoped>\n",
       "    .dataframe tbody tr th:only-of-type {\n",
       "        vertical-align: middle;\n",
       "    }\n",
       "\n",
       "    .dataframe tbody tr th {\n",
       "        vertical-align: top;\n",
       "    }\n",
       "\n",
       "    .dataframe thead th {\n",
       "        text-align: right;\n",
       "    }\n",
       "</style>\n",
       "<table border=\"1\" class=\"dataframe\">\n",
       "  <thead>\n",
       "    <tr style=\"text-align: right;\">\n",
       "      <th>Visa_Status</th>\n",
       "      <th>N</th>\n",
       "      <th>Y</th>\n",
       "      <th>All</th>\n",
       "    </tr>\n",
       "    <tr>\n",
       "      <th>Top University</th>\n",
       "      <th></th>\n",
       "      <th></th>\n",
       "      <th></th>\n",
       "    </tr>\n",
       "  </thead>\n",
       "  <tbody>\n",
       "    <tr>\n",
       "      <th>N</th>\n",
       "      <td>34</td>\n",
       "      <td>59</td>\n",
       "      <td>93</td>\n",
       "    </tr>\n",
       "    <tr>\n",
       "      <th>Y</th>\n",
       "      <td>153</td>\n",
       "      <td>348</td>\n",
       "      <td>501</td>\n",
       "    </tr>\n",
       "    <tr>\n",
       "      <th>All</th>\n",
       "      <td>187</td>\n",
       "      <td>407</td>\n",
       "      <td>594</td>\n",
       "    </tr>\n",
       "  </tbody>\n",
       "</table>\n",
       "</div>"
      ],
      "text/plain": [
       "Visa_Status       N    Y  All\n",
       "Top University               \n",
       "N                34   59   93\n",
       "Y               153  348  501\n",
       "All             187  407  594"
      ]
     },
     "execution_count": 11,
     "metadata": {},
     "output_type": "execute_result"
    }
   ],
   "source": [
    "# Performing cross tablulation to check the imact of top university on visa status\n",
    "pd.crosstab(dataset['Top University'],dataset['Visa_Status'],margins=True)"
   ]
  },
  {
   "cell_type": "code",
   "execution_count": null,
   "id": "fc5fd9dc",
   "metadata": {},
   "outputs": [],
   "source": []
  },
  {
   "cell_type": "code",
   "execution_count": null,
   "id": "60e6b1c7",
   "metadata": {},
   "outputs": [],
   "source": []
  },
  {
   "cell_type": "code",
   "execution_count": null,
   "id": "4affa751",
   "metadata": {},
   "outputs": [],
   "source": []
  },
  {
   "cell_type": "code",
   "execution_count": 12,
   "id": "b1588338",
   "metadata": {
    "scrolled": false
   },
   "outputs": [
    {
     "data": {
      "image/png": "[encoded data removed]",
      "text/plain": [
       "<Figure size 600x400 with 2 Axes>"
      ]
     },
     "metadata": {},
     "output_type": "display_data"
    }
   ],
   "source": [
    "import seaborn as sns\n",
    "import matplotlib.pyplot as plt\n",
    "\n",
    "# Example cross-tabulation data (replace this with your cross-tabulation data)\n",
    "cross_tabulation = [[24, 65], [163, 342]]  # Example values for a 2x2 confusion matrix\n",
    "\n",
    "# Plotting the confusion matrix using a heatmap\n",
    "plt.figure(figsize=(6, 4))\n",
    "sns.heatmap(cross_tabulation, annot=True, cmap='Blues', fmt='d')\n",
    "plt.title('Confusion Matrix')\n",
    "plt.xlabel('Predicted')\n",
    "plt.ylabel('True')\n",
    "plt.show()"
   ]
  },
  {
   "cell_type": "code",
   "execution_count": 13,
   "id": "c4e76754",
   "metadata": {
    "scrolled": true
   },
   "outputs": [
    {
     "name": "stderr",
     "output_type": "stream",
     "text": [
      "/var/folders/21/fhb_9hnn3b93rb0_82v9rwxm0000gp/T/ipykernel_837/1823223475.py:1: FutureWarning: The default value of numeric_only in DataFrame.corr is deprecated. In a future version, it will default to False. Select only valid columns or specify the value of numeric_only to silence this warning.\n",
      "  correlation_matrix = dataset.corr()\n"
     ]
    }
   ],
   "source": [
    "correlation_matrix = dataset.corr()"
   ]
  },
  {
   "cell_type": "code",
   "execution_count": 14,
   "id": "56f6c167",
   "metadata": {
    "scrolled": false
   },
   "outputs": [
    {
     "data": {
      "image/png": "[encoded data removed]",
      "text/plain": [
       "<Figure size 800x600 with 2 Axes>"
      ]
     },
     "metadata": {},
     "output_type": "display_data"
    }
   ],
   "source": [
    "import seaborn as sns\n",
    "import matplotlib.pyplot as plt\n",
    "\n",
    "# Assuming correlation_matrix is your computed correlation matrix\n",
    "# Plotting the correlation matrix using a heatmap\n",
    "plt.figure(figsize=(8, 6))\n",
    "sns.heatmap(correlation_matrix, annot=True, cmap='coolwarm', fmt='.2f')\n",
    "plt.title('Correlation Matrix')\n",
    "plt.show()\n"
   ]
  },
  {
   "cell_type": "code",
   "execution_count": null,
   "id": "5dd3a204",
   "metadata": {},
   "outputs": [],
   "source": []
  },
  {
   "cell_type": "code",
   "execution_count": null,
   "id": "1547aab7",
   "metadata": {},
   "outputs": [],
   "source": []
  },
  {
   "cell_type": "code",
   "execution_count": null,
   "id": "178ad9de",
   "metadata": {},
   "outputs": [],
   "source": []
  },
  {
   "cell_type": "code",
   "execution_count": 15,
   "id": "bb63c148",
   "metadata": {
    "scrolled": false
   },
   "outputs": [
    {
     "data": {
      "text/plain": [
       "Applicant_ID         20\n",
       "Gender               33\n",
       "Married              23\n",
       "Dependents           34\n",
       "Education            20\n",
       "Self_Employed        50\n",
       "ApplicantIncome      20\n",
       "CoapplicantIncome    20\n",
       "University Rank       0\n",
       "Visa_Status          20\n",
       "Top University        0\n",
       "dtype: int64"
      ]
     },
     "execution_count": 15,
     "metadata": {},
     "output_type": "execute_result"
    }
   ],
   "source": [
    "# Checking null values if there are any\n",
    "\n",
    "dataset.isnull().sum()"
   ]
  },
  {
   "cell_type": "code",
   "execution_count": 16,
   "id": "f0fef7e4",
   "metadata": {},
   "outputs": [],
   "source": [
    "# Doing some data cleaning such as handling missing values, removing Nan values, conversion of strings etc\n",
    "# Handling the missing values by filling it up with values\n",
    "\n",
    "dataset['Gender'].fillna(dataset['Gender'].mode()[0],inplace = True)\n",
    "dataset['Married'].fillna(dataset['Married'].mode()[0],inplace = True)\n",
    "dataset['Self_Employed'].fillna(dataset['Self_Employed'].mode()[0],inplace = True)\n",
    "dataset['Dependents'].fillna(dataset['Dependents'].mode()[0],inplace = True)\n",
    "dataset['Dependents'].fillna(dataset['Dependents'].mode()[0],inplace = True)\n",
    "dataset['Applicant_ID'].fillna(dataset['Applicant_ID'].mode()[0],inplace = True)\n",
    "dataset['Education'].fillna(dataset['Education'].mode()[0],inplace = True)\n",
    "dataset['ApplicantIncome'].fillna(dataset['ApplicantIncome'].mode()[0],inplace = True)\n",
    "dataset['CoapplicantIncome'].fillna(dataset['CoapplicantIncome'].mode()[0],inplace = True)\n",
    "dataset['Visa_Status'].fillna(dataset['Visa_Status'].mode()[0],inplace = True)"
   ]
  },
  {
   "cell_type": "code",
   "execution_count": 17,
   "id": "43cb8c8c",
   "metadata": {
    "scrolled": true
   },
   "outputs": [
    {
     "data": {
      "text/plain": [
       "Applicant_ID         0\n",
       "Gender               0\n",
       "Married              0\n",
       "Dependents           0\n",
       "Education            0\n",
       "Self_Employed        0\n",
       "ApplicantIncome      0\n",
       "CoapplicantIncome    0\n",
       "University Rank      0\n",
       "Visa_Status          0\n",
       "Top University       0\n",
       "dtype: int64"
      ]
     },
     "execution_count": 17,
     "metadata": {},
     "output_type": "execute_result"
    }
   ],
   "source": [
    "# Checking second time to find if there are any null values \n",
    "\n",
    "dataset.isnull().sum()"
   ]
  },
  {
   "cell_type": "code",
   "execution_count": 19,
   "id": "fda47167",
   "metadata": {},
   "outputs": [],
   "source": [
    "# Normalizing the columns Applicant Income and Co-Applicant Income\n",
    "# Adding both incomes and creating a new column and applying a log to normalizing it\n",
    "\n",
    "dataset['TotalIncome'] = dataset['ApplicantIncome'] + dataset['CoapplicantIncome']\n",
    "dataset['TotalIncome_log'] = np.log(dataset['TotalIncome'])"
   ]
  },
  {
   "cell_type": "code",
   "execution_count": 20,
   "id": "17625d11",
   "metadata": {},
   "outputs": [],
   "source": [
    "# Replacing NaN with 0 or any other desired value\n",
    "dataset.fillna(value=4.5, inplace=True)"
   ]
  },
  {
   "cell_type": "code",
   "execution_count": null,
   "id": "2023cb81",
   "metadata": {},
   "outputs": [],
   "source": []
  },
  {
   "cell_type": "code",
   "execution_count": 21,
   "id": "df297e47",
   "metadata": {
    "scrolled": true
   },
   "outputs": [
    {
     "data": {
      "text/html": [
       "<div>\n",
       "<style scoped>\n",
       "    .dataframe tbody tr th:only-of-type {\n",
       "        vertical-align: middle;\n",
       "    }\n",
       "\n",
       "    .dataframe tbody tr th {\n",
       "        vertical-align: top;\n",
       "    }\n",
       "\n",
       "    .dataframe thead th {\n",
       "        text-align: right;\n",
       "    }\n",
       "</style>\n",
       "<table border=\"1\" class=\"dataframe\">\n",
       "  <thead>\n",
       "    <tr style=\"text-align: right;\">\n",
       "      <th></th>\n",
       "      <th>Applicant_ID</th>\n",
       "      <th>Gender</th>\n",
       "      <th>Married</th>\n",
       "      <th>Dependents</th>\n",
       "      <th>Education</th>\n",
       "      <th>Self_Employed</th>\n",
       "      <th>ApplicantIncome</th>\n",
       "      <th>CoapplicantIncome</th>\n",
       "      <th>University Rank</th>\n",
       "      <th>Visa_Status</th>\n",
       "      <th>Top University</th>\n",
       "      <th>TotalIncome</th>\n",
       "      <th>TotalIncome_log</th>\n",
       "    </tr>\n",
       "  </thead>\n",
       "  <tbody>\n",
       "    <tr>\n",
       "      <th>0</th>\n",
       "      <td>LP001002</td>\n",
       "      <td>Male</td>\n",
       "      <td>No</td>\n",
       "      <td>0</td>\n",
       "      <td>Graduate</td>\n",
       "      <td>No</td>\n",
       "      <td>5849.0</td>\n",
       "      <td>0.0</td>\n",
       "      <td>521</td>\n",
       "      <td>Y</td>\n",
       "      <td>Y</td>\n",
       "      <td>5849.0</td>\n",
       "      <td>8.674026</td>\n",
       "    </tr>\n",
       "    <tr>\n",
       "      <th>1</th>\n",
       "      <td>LP001003</td>\n",
       "      <td>Male</td>\n",
       "      <td>Yes</td>\n",
       "      <td>1</td>\n",
       "      <td>Graduate</td>\n",
       "      <td>No</td>\n",
       "      <td>4583.0</td>\n",
       "      <td>1508.0</td>\n",
       "      <td>416</td>\n",
       "      <td>N</td>\n",
       "      <td>Y</td>\n",
       "      <td>6091.0</td>\n",
       "      <td>8.714568</td>\n",
       "    </tr>\n",
       "    <tr>\n",
       "      <th>2</th>\n",
       "      <td>LP001005</td>\n",
       "      <td>Male</td>\n",
       "      <td>Yes</td>\n",
       "      <td>0</td>\n",
       "      <td>Graduate</td>\n",
       "      <td>Yes</td>\n",
       "      <td>3000.0</td>\n",
       "      <td>0.0</td>\n",
       "      <td>322</td>\n",
       "      <td>Y</td>\n",
       "      <td>Y</td>\n",
       "      <td>3000.0</td>\n",
       "      <td>8.006368</td>\n",
       "    </tr>\n",
       "    <tr>\n",
       "      <th>3</th>\n",
       "      <td>LP001006</td>\n",
       "      <td>Male</td>\n",
       "      <td>Yes</td>\n",
       "      <td>0</td>\n",
       "      <td>Not Graduate</td>\n",
       "      <td>No</td>\n",
       "      <td>2583.0</td>\n",
       "      <td>2358.0</td>\n",
       "      <td>293</td>\n",
       "      <td>Y</td>\n",
       "      <td>Y</td>\n",
       "      <td>4941.0</td>\n",
       "      <td>8.505323</td>\n",
       "    </tr>\n",
       "    <tr>\n",
       "      <th>4</th>\n",
       "      <td>LP001008</td>\n",
       "      <td>Male</td>\n",
       "      <td>No</td>\n",
       "      <td>0</td>\n",
       "      <td>Graduate</td>\n",
       "      <td>No</td>\n",
       "      <td>6000.0</td>\n",
       "      <td>0.0</td>\n",
       "      <td>602</td>\n",
       "      <td>Y</td>\n",
       "      <td>Y</td>\n",
       "      <td>6000.0</td>\n",
       "      <td>8.699515</td>\n",
       "    </tr>\n",
       "  </tbody>\n",
       "</table>\n",
       "</div>"
      ],
      "text/plain": [
       "  Applicant_ID Gender Married Dependents     Education Self_Employed  \\\n",
       "0     LP001002   Male      No          0      Graduate            No   \n",
       "1     LP001003   Male     Yes          1      Graduate            No   \n",
       "2     LP001005   Male     Yes          0      Graduate           Yes   \n",
       "3     LP001006   Male     Yes          0  Not Graduate            No   \n",
       "4     LP001008   Male      No          0      Graduate            No   \n",
       "\n",
       "   ApplicantIncome  CoapplicantIncome  University Rank Visa_Status  \\\n",
       "0           5849.0                0.0              521           Y   \n",
       "1           4583.0             1508.0              416           N   \n",
       "2           3000.0                0.0              322           Y   \n",
       "3           2583.0             2358.0              293           Y   \n",
       "4           6000.0                0.0              602           Y   \n",
       "\n",
       "  Top University  TotalIncome  TotalIncome_log  \n",
       "0              Y       5849.0         8.674026  \n",
       "1              Y       6091.0         8.714568  \n",
       "2              Y       3000.0         8.006368  \n",
       "3              Y       4941.0         8.505323  \n",
       "4              Y       6000.0         8.699515  "
      ]
     },
     "execution_count": 21,
     "metadata": {},
     "output_type": "execute_result"
    }
   ],
   "source": [
    "# Exploring dataset to check how it looks after performing data cleaning\n",
    "dataset.head()"
   ]
  },
  {
   "cell_type": "code",
   "execution_count": 23,
   "id": "4af03823",
   "metadata": {
    "scrolled": false
   },
   "outputs": [],
   "source": [
    "# Divide the dataset into dependent and independent variable \n",
    "\n",
    "x = dataset.iloc[:,np.r_[1:5,6:8,11:13]].values\n",
    "y = dataset.iloc[:,9].values"
   ]
  },
  {
   "cell_type": "code",
   "execution_count": 24,
   "id": "6276ed4e",
   "metadata": {
    "scrolled": false
   },
   "outputs": [
    {
     "data": {
      "text/plain": [
       "array([['Male', 'No', '0', ..., 0.0, 5849.0, 8.674025985443025],\n",
       "       ['Male', 'Yes', '1', ..., 1508.0, 6091.0, 8.714567550836485],\n",
       "       ['Male', 'Yes', '0', ..., 0.0, 3000.0, 8.006367567650246],\n",
       "       ...,\n",
       "       ['Male', 'Yes', '0', ..., 0.0, 2500.0, 7.824046010856292],\n",
       "       ['Male', 'Yes', '0', ..., 0.0, 2500.0, 7.824046010856292],\n",
       "       ['Male', 'Yes', '0', ..., 0.0, 2500.0, 7.824046010856292]],\n",
       "      dtype=object)"
      ]
     },
     "execution_count": 24,
     "metadata": {},
     "output_type": "execute_result"
    }
   ],
   "source": [
    "# Exploring 'x' variable\n",
    "x"
   ]
  },
  {
   "cell_type": "code",
   "execution_count": 25,
   "id": "987feab6",
   "metadata": {
    "scrolled": true
   },
   "outputs": [
    {
     "data": {
      "text/plain": [
       "array(['Y', 'N', 'Y', 'Y', 'Y', 'Y', 'Y', 'N', 'Y', 'N', 'Y', 'Y', 'Y',\n",
       "       'N', 'Y', 'Y', 'Y', 'N', 'N', 'Y', 'N', 'Y', 'N', 'N', 'N', 'Y',\n",
       "       'Y', 'Y', 'N', 'Y', 'N', 'N', 'N', 'Y', 'N', 'Y', 'N', 'Y', 'Y',\n",
       "       'Y', 'N', 'Y', 'Y', 'Y', 'Y', 'Y', 'Y', 'Y', 'N', 'Y', 'Y', 'Y',\n",
       "       'N', 'N', 'N', 'Y', 'Y', 'N', 'Y', 'Y', 'Y', 'Y', 'N', 'N', 'N',\n",
       "       'N', 'N', 'Y', 'Y', 'N', 'Y', 'Y', 'Y', 'N', 'Y', 'N', 'N', 'N',\n",
       "       'N', 'Y', 'Y', 'Y', 'N', 'N', 'Y', 'Y', 'Y', 'Y', 'Y', 'Y', 'Y',\n",
       "       'Y', 'Y', 'Y', 'Y', 'N', 'Y', 'Y', 'Y', 'Y', 'Y', 'Y', 'Y', 'Y',\n",
       "       'Y', 'Y', 'Y', 'N', 'N', 'Y', 'Y', 'Y', 'N', 'Y', 'Y', 'Y', 'Y',\n",
       "       'Y', 'N', 'Y', 'Y', 'Y', 'Y', 'Y', 'Y', 'Y', 'Y', 'Y', 'N', 'N',\n",
       "       'Y', 'Y', 'Y', 'Y', 'Y', 'N', 'N', 'Y', 'N', 'N', 'N', 'Y', 'Y',\n",
       "       'Y', 'Y', 'Y', 'Y', 'Y', 'N', 'Y', 'N', 'Y', 'N', 'N', 'Y', 'Y',\n",
       "       'Y', 'Y', 'Y', 'Y', 'Y', 'N', 'N', 'Y', 'Y', 'Y', 'N', 'Y', 'N',\n",
       "       'Y', 'Y', 'Y', 'N', 'Y', 'N', 'Y', 'Y', 'N', 'Y', 'N', 'N', 'N',\n",
       "       'Y', 'N', 'Y', 'Y', 'N', 'Y', 'Y', 'Y', 'Y', 'N', 'N', 'Y', 'Y',\n",
       "       'N', 'Y', 'Y', 'Y', 'N', 'Y', 'Y', 'N', 'Y', 'Y', 'Y', 'Y', 'Y',\n",
       "       'Y', 'N', 'N', 'N', 'Y', 'Y', 'Y', 'Y', 'N', 'Y', 'N', 'Y', 'N',\n",
       "       'Y', 'Y', 'Y', 'Y', 'N', 'N', 'Y', 'Y', 'Y', 'Y', 'Y', 'Y', 'Y',\n",
       "       'Y', 'Y', 'N', 'Y', 'Y', 'Y', 'Y', 'N', 'Y', 'Y', 'Y', 'N', 'Y',\n",
       "       'Y', 'Y', 'Y', 'N', 'N', 'Y', 'Y', 'N', 'Y', 'N', 'N', 'N', 'N',\n",
       "       'Y', 'Y', 'N', 'Y', 'Y', 'Y', 'Y', 'Y', 'N', 'Y', 'Y', 'Y', 'Y',\n",
       "       'Y', 'Y', 'Y', 'Y', 'Y', 'Y', 'Y', 'N', 'Y', 'Y', 'Y', 'N', 'Y',\n",
       "       'N', 'Y', 'Y', 'Y', 'Y', 'N', 'Y', 'N', 'Y', 'Y', 'Y', 'Y', 'N',\n",
       "       'N', 'N', 'Y', 'Y', 'Y', 'Y', 'N', 'Y', 'N', 'N', 'Y', 'Y', 'Y',\n",
       "       'Y', 'Y', 'N', 'Y', 'Y', 'Y', 'Y', 'N', 'Y', 'Y', 'Y', 'Y', 'Y',\n",
       "       'N', 'Y', 'Y', 'N', 'Y', 'Y', 'Y', 'Y', 'Y', 'Y', 'Y', 'Y', 'Y',\n",
       "       'N', 'Y', 'N', 'N', 'Y', 'Y', 'Y', 'Y', 'N', 'Y', 'Y', 'Y', 'Y',\n",
       "       'N', 'Y', 'N', 'Y', 'Y', 'Y', 'N', 'N', 'Y', 'N', 'Y', 'Y', 'Y',\n",
       "       'Y', 'N', 'N', 'N', 'Y', 'N', 'Y', 'Y', 'Y', 'N', 'Y', 'Y', 'Y',\n",
       "       'Y', 'N', 'Y', 'Y', 'Y', 'Y', 'Y', 'N', 'Y', 'Y', 'N', 'Y', 'Y',\n",
       "       'Y', 'Y', 'Y', 'Y', 'Y', 'Y', 'N', 'Y', 'Y', 'N', 'N', 'N', 'Y',\n",
       "       'Y', 'N', 'Y', 'Y', 'Y', 'N', 'N', 'N', 'Y', 'N', 'Y', 'N', 'Y',\n",
       "       'N', 'N', 'Y', 'Y', 'Y', 'N', 'Y', 'N', 'Y', 'Y', 'N', 'Y', 'Y',\n",
       "       'Y', 'Y', 'N', 'Y', 'Y', 'Y', 'Y', 'Y', 'Y', 'N', 'Y', 'Y', 'Y',\n",
       "       'Y', 'Y', 'Y', 'Y', 'Y', 'N', 'N', 'N', 'N', 'Y', 'N', 'Y', 'Y',\n",
       "       'Y', 'Y', 'N', 'Y', 'N', 'Y', 'Y', 'Y', 'Y', 'N', 'Y', 'N', 'Y',\n",
       "       'Y', 'N', 'Y', 'N', 'Y', 'Y', 'Y', 'Y', 'Y', 'N', 'Y', 'N', 'Y',\n",
       "       'Y', 'Y', 'Y', 'Y', 'Y', 'N', 'N', 'Y', 'N', 'Y', 'Y', 'Y', 'Y',\n",
       "       'N', 'Y', 'Y', 'Y', 'Y', 'N', 'Y', 'Y', 'Y', 'N', 'Y', 'Y', 'Y',\n",
       "       'N', 'Y', 'Y', 'N', 'Y', 'Y', 'N', 'N', 'Y', 'Y', 'N', 'N', 'N',\n",
       "       'Y', 'Y', 'Y', 'Y', 'N', 'Y', 'Y', 'Y', 'Y', 'Y', 'Y', 'Y', 'N',\n",
       "       'N', 'Y', 'Y', 'Y', 'Y', 'N', 'Y', 'Y', 'N', 'Y', 'Y', 'Y', 'Y',\n",
       "       'N', 'Y', 'N', 'Y', 'N', 'Y', 'Y', 'N', 'N', 'Y', 'Y', 'Y', 'Y',\n",
       "       'Y', 'Y', 'Y', 'Y', 'Y', 'N', 'Y', 'Y', 'N', 'N', 'N', 'Y', 'N',\n",
       "       'Y', 'N', 'N', 'Y', 'N', 'Y', 'Y', 'Y', 'Y', 'N', 'Y', 'N', 'N',\n",
       "       'N', 'Y', 'Y', 'Y', 'N', 'Y', 'N', 'Y', 'Y', 'Y', 'Y', 'Y', 'Y',\n",
       "       'Y', 'Y', 'Y', 'Y', 'Y', 'Y', 'Y', 'Y', 'Y', 'Y', 'Y', 'Y', 'Y',\n",
       "       'Y', 'Y', 'Y'], dtype=object)"
      ]
     },
     "execution_count": 25,
     "metadata": {},
     "output_type": "execute_result"
    }
   ],
   "source": [
    "# Exploring 'y' variable\n",
    "y"
   ]
  },
  {
   "cell_type": "code",
   "execution_count": 26,
   "id": "8ff5fb77",
   "metadata": {},
   "outputs": [],
   "source": [
    "# Split the dataset into train and test dataset\n",
    "\n",
    "# Importing train_test_split from sklearn\n",
    "from sklearn.model_selection import train_test_split\n",
    "\n",
    "# x_train and x_test have independent variables\n",
    "# y_train and y_test have dependent variables\n",
    "# Spilitting it in the ration of 80:20, 80% of traning and 20% of traiing\n",
    "x_train, x_test, y_train, y_test = train_test_split(x,y, test_size = 0.2, random_state = 0)"
   ]
  },
  {
   "cell_type": "code",
   "execution_count": 27,
   "id": "ee84aca2",
   "metadata": {
    "scrolled": true
   },
   "outputs": [
    {
     "name": "stdout",
     "output_type": "stream",
     "text": [
      "[['Male' 'Yes' '0' ... 2900.0 5858.0 8.675563527387679]\n",
      " ['Male' 'No' '1' ... 0.0 11250.0 9.328123407632566]\n",
      " ['Male' 'Yes' '0' ... 1733.0 5681.0 8.644882552557126]\n",
      " ...\n",
      " ['Male' 'Yes' '3+' ... 3167.0 8334.0 9.0280988119824]\n",
      " ['Male' 'Yes' '0' ... 0.0 6033.0 8.704999678440762]\n",
      " ['Female' 'Yes' '0' ... 2306.0 6486.0 8.777401286867264]]\n"
     ]
    }
   ],
   "source": [
    "# Explorin x_train\n",
    "print(x_train)"
   ]
  },
  {
   "cell_type": "code",
   "execution_count": 28,
   "id": "f0bcf0c6",
   "metadata": {},
   "outputs": [],
   "source": [
    "# Converting categorical text into numeric format using label encoder for system to udnerstand\n",
    "from sklearn.preprocessing import LabelEncoder\n",
    "labelencoder_x = LabelEncoder()\n",
    "\n",
    "# Converting 'x_train' into numerical values\n",
    "for i in range(0,5):\n",
    "    x_train[:,i] = labelencoder_x.fit_transform(x_train[:,i])\n",
    "    x_train[:,7] = labelencoder_x.fit_transform(x_train[:,7])   "
   ]
  },
  {
   "cell_type": "code",
   "execution_count": 29,
   "id": "bea8e06c",
   "metadata": {
    "scrolled": false
   },
   "outputs": [
    {
     "data": {
      "text/plain": [
       "array([[1, 1, 0, ..., 2900.0, 5858.0, 261],\n",
       "       [1, 0, 1, ..., 0.0, 11250.0, 395],\n",
       "       [1, 1, 0, ..., 1733.0, 5681.0, 245],\n",
       "       ...,\n",
       "       [1, 1, 3, ..., 3167.0, 8334.0, 352],\n",
       "       [1, 1, 0, ..., 0.0, 6033.0, 266],\n",
       "       [0, 1, 0, ..., 2306.0, 6486.0, 293]], dtype=object)"
      ]
     },
     "execution_count": 29,
     "metadata": {},
     "output_type": "execute_result"
    }
   ],
   "source": [
    "# Exploring 'x' train after converting\n",
    "x_train"
   ]
  },
  {
   "cell_type": "code",
   "execution_count": 30,
   "id": "c28137ec",
   "metadata": {},
   "outputs": [],
   "source": [
    "# Converting 'y_train' into numerical values\n",
    "labelencoder_y = LabelEncoder()\n",
    "labelencoder_y\n",
    "y_train = labelencoder_y.fit_transform(y_train)"
   ]
  },
  {
   "cell_type": "code",
   "execution_count": 31,
   "id": "4047d302",
   "metadata": {
    "scrolled": false
   },
   "outputs": [
    {
     "data": {
      "text/plain": [
       "array([1, 0, 0, 1, 1, 0, 1, 1, 1, 0, 0, 1, 1, 1, 1, 1, 1, 1, 1, 0, 1, 1,\n",
       "       0, 1, 1, 0, 0, 1, 1, 1, 0, 1, 1, 1, 1, 1, 0, 1, 0, 1, 0, 1, 1, 1,\n",
       "       1, 0, 0, 1, 1, 1, 1, 0, 1, 1, 1, 1, 1, 1, 1, 1, 0, 1, 0, 1, 1, 0,\n",
       "       1, 1, 1, 1, 1, 0, 0, 1, 1, 0, 1, 0, 0, 1, 0, 0, 1, 1, 1, 1, 1, 1,\n",
       "       1, 1, 0, 1, 0, 1, 0, 1, 1, 1, 1, 0, 0, 1, 1, 1, 0, 1, 1, 0, 0, 0,\n",
       "       1, 1, 1, 0, 1, 0, 0, 1, 1, 0, 0, 1, 1, 1, 1, 1, 0, 0, 0, 0, 1, 1,\n",
       "       0, 1, 1, 1, 1, 1, 1, 0, 0, 1, 1, 1, 1, 1, 0, 1, 1, 1, 1, 1, 1, 1,\n",
       "       1, 1, 1, 0, 1, 1, 1, 1, 1, 1, 1, 1, 1, 1, 1, 0, 0, 1, 1, 1, 1, 0,\n",
       "       0, 1, 0, 1, 0, 0, 0, 1, 0, 1, 1, 1, 1, 1, 1, 0, 1, 1, 1, 1, 1, 1,\n",
       "       0, 0, 1, 1, 1, 1, 1, 0, 0, 1, 1, 1, 1, 0, 1, 1, 1, 1, 0, 0, 1, 1,\n",
       "       0, 1, 1, 1, 0, 1, 1, 1, 0, 1, 0, 1, 0, 1, 1, 0, 0, 0, 1, 0, 1, 1,\n",
       "       1, 1, 1, 0, 1, 1, 1, 1, 1, 1, 0, 1, 0, 1, 0, 1, 1, 1, 1, 1, 1, 1,\n",
       "       1, 1, 0, 0, 1, 0, 1, 1, 1, 0, 1, 1, 0, 1, 0, 1, 0, 1, 1, 1, 1, 1,\n",
       "       1, 1, 1, 1, 0, 1, 1, 0, 1, 1, 1, 0, 0, 1, 1, 1, 1, 0, 1, 0, 1, 1,\n",
       "       1, 1, 1, 0, 1, 0, 1, 0, 0, 1, 1, 0, 1, 1, 0, 1, 1, 0, 0, 1, 1, 1,\n",
       "       1, 1, 1, 0, 1, 1, 1, 0, 1, 0, 0, 0, 0, 1, 1, 1, 1, 0, 0, 1, 1, 1,\n",
       "       1, 0, 1, 0, 1, 1, 1, 1, 1, 0, 1, 1, 1, 1, 1, 1, 1, 0, 1, 0, 0, 0,\n",
       "       1, 1, 0, 1, 1, 1, 1, 0, 1, 1, 0, 1, 0, 0, 0, 1, 1, 1, 1, 1, 1, 1,\n",
       "       1, 0, 1, 0, 1, 1, 1, 0, 1, 1, 1, 0, 0, 1, 1, 1, 1, 0, 1, 1, 1, 1,\n",
       "       1, 1, 0, 1, 0, 1, 0, 1, 1, 0, 0, 1, 1, 0, 1, 1, 1, 1, 1, 1, 1, 0,\n",
       "       1, 1, 0, 0, 1, 0, 1, 1, 1, 1, 1, 1, 1, 0, 0, 1, 0, 0, 0, 0, 0, 1,\n",
       "       1, 1, 1, 1, 1, 0, 1, 0, 1, 0, 0, 1, 1, 1, 0, 1, 1, 0, 0, 0, 1, 1,\n",
       "       1, 1, 1, 0, 1, 0, 1])"
      ]
     },
     "execution_count": 31,
     "metadata": {},
     "output_type": "execute_result"
    }
   ],
   "source": [
    "# Exploring 'y' train after converting\n",
    "y_train"
   ]
  },
  {
   "cell_type": "code",
   "execution_count": 32,
   "id": "939b1116",
   "metadata": {
    "scrolled": false
   },
   "outputs": [],
   "source": [
    "# Converting 'x_test' into numerical values\n",
    "\n",
    "for i in range(0,5):\n",
    "    x_test[:,i] = labelencoder_x.fit_transform(x_test[:,i])\n",
    "    x_test[:,7] = labelencoder_x.fit_transform(x_test[:,7])"
   ]
  },
  {
   "cell_type": "code",
   "execution_count": 33,
   "id": "d4bb69e1",
   "metadata": {
    "scrolled": true
   },
   "outputs": [
    {
     "data": {
      "text/plain": [
       "array([[1, 0, 0, 0, 93, 0.0, 7085.0, 82],\n",
       "       [0, 0, 0, 0, 65, 0.0, 4230.0, 27],\n",
       "       [1, 1, 0, 0, 85, 3906.0, 10039.0, 100],\n",
       "       [1, 1, 0, 0, 67, 2451.0, 6784.0, 77],\n",
       "       [1, 1, 2, 0, 31, 1167.0, 3875.0, 21],\n",
       "       [1, 1, 0, 1, 27, 3449.0, 6058.0, 67],\n",
       "       [1, 1, 3, 0, 90, 0.0, 6417.0, 74],\n",
       "       [1, 0, 0, 0, 103, 0.0, 12876.0, 110],\n",
       "       [1, 0, 0, 0, 77, 0.0, 5124.0, 52],\n",
       "       [1, 1, 0, 0, 10, 3150.0, 5233.0, 54],\n",
       "       [0, 0, 0, 0, 35, 0.0, 2917.0, 3],\n",
       "       [1, 1, 1, 0, 34, 0.0, 2895.0, 2],\n",
       "       [0, 0, 0, 0, 96, 0.0, 8333.0, 92],\n",
       "       [1, 1, 2, 0, 76, 3667.0, 8667.0, 93],\n",
       "       [1, 1, 0, 0, 105, 0.0, 14880.0, 113],\n",
       "       [1, 1, 1, 0, 60, 0.0, 3875.0, 21],\n",
       "       [1, 0, 1, 1, 32, 1542.0, 4311.0, 31],\n",
       "       [1, 0, 0, 1, 15, 1600.0, 3946.0, 24],\n",
       "       [0, 0, 0, 0, 23, 0.0, 2500.0, 1],\n",
       "       [1, 1, 0, 1, 20, 2333.0, 4787.0, 43],\n",
       "       [0, 1, 0, 0, 28, 3440.0, 6085.0, 68],\n",
       "       [1, 1, 0, 0, 19, 2340.0, 4765.0, 42],\n",
       "       [1, 1, 2, 0, 87, 1300.0, 7550.0, 88],\n",
       "       [1, 1, 2, 0, 96, 3167.0, 11500.0, 107],\n",
       "       [1, 1, 0, 0, 17, 2138.0, 4521.0, 34],\n",
       "       [1, 1, 1, 0, 84, 2004.0, 8069.0, 90],\n",
       "       [1, 0, 0, 0, 52, 5064.0, 8724.0, 94],\n",
       "       [1, 1, 0, 0, 78, 5625.0, 11333.0, 106],\n",
       "       [1, 1, 3, 0, 49, 1250.0, 4680.0, 40],\n",
       "       [0, 0, 0, 0, 76, 0.0, 5000.0, 49],\n",
       "       [1, 1, 0, 0, 98, 0.0, 9083.0, 95],\n",
       "       [1, 0, 0, 1, 74, 0.0, 4885.0, 45],\n",
       "       [1, 1, 1, 1, 26, 2500.0, 5100.0, 51],\n",
       "       [1, 1, 0, 0, 95, 1833.0, 9734.0, 98],\n",
       "       [1, 1, 0, 0, 72, 3583.0, 8235.0, 91],\n",
       "       [0, 1, 0, 1, 12, 3237.0, 5386.0, 56],\n",
       "       [1, 1, 0, 0, 17, 3334.0, 5717.0, 62],\n",
       "       [1, 0, 0, 1, 24, 2042.0, 4592.0, 38],\n",
       "       [1, 1, 0, 0, 87, 0.0, 6250.0, 72],\n",
       "       [1, 1, 2, 1, 54, 242.0, 3917.0, 23],\n",
       "       [0, 0, 0, 0, 44, 0.0, 3244.0, 8],\n",
       "       [1, 1, 3, 0, 46, 2500.0, 5900.0, 65],\n",
       "       [1, 1, 2, 0, 2, 1086.0, 2385.0, 0],\n",
       "       [1, 1, 1, 1, 69, 1229.0, 5783.0, 64],\n",
       "       [1, 0, 0, 0, 58, 0.0, 3858.0, 20],\n",
       "       [1, 0, 0, 0, 96, 3750.0, 12083.0, 109],\n",
       "       [1, 1, 1, 0, 56, 0.0, 3750.0, 17],\n",
       "       [0, 0, 0, 0, 68, 0.0, 4547.0, 36],\n",
       "       [1, 1, 1, 0, 70, 1508.0, 6091.0, 69],\n",
       "       [1, 0, 0, 0, 61, 2500.0, 6500.0, 75],\n",
       "       [1, 1, 3, 1, 42, 0.0, 3173.0, 7],\n",
       "       [1, 1, 0, 0, 73, 2333.0, 7083.0, 81],\n",
       "       [1, 1, 0, 1, 26, 1700.0, 4300.0, 30],\n",
       "       [1, 0, 0, 0, 59, 1640.0, 5505.0, 59],\n",
       "       [1, 1, 0, 0, 1, 2773.0, 3798.0, 18],\n",
       "       [1, 1, 0, 0, 88, 4583.0, 10916.0, 103],\n",
       "       [1, 1, 0, 0, 38, 1459.0, 4492.0, 33],\n",
       "       [1, 0, 0, 1, 86, 0.0, 6216.0, 71],\n",
       "       [1, 1, 2, 0, 62, 1526.0, 5532.0, 60],\n",
       "       [1, 0, 0, 0, 64, 0.0, 4191.0, 26],\n",
       "       [0, 0, 0, 0, 11, 8980.0, 11117.0, 104],\n",
       "       [0, 0, 0, 0, 101, 0.0, 10000.0, 99],\n",
       "       [1, 1, 0, 1, 13, 2400.0, 4567.0, 37],\n",
       "       [0, 0, 0, 0, 50, 0.0, 3510.0, 12],\n",
       "       [1, 1, 2, 0, 81, 0.0, 5935.0, 66],\n",
       "       [1, 1, 1, 0, 82, 5625.0, 11580.0, 108],\n",
       "       [1, 1, 0, 0, 10, 4083.0, 6166.0, 70],\n",
       "       [1, 0, 0, 0, 16, 2531.0, 4897.0, 46],\n",
       "       [1, 1, 0, 0, 55, 3166.0, 6873.0, 78],\n",
       "       [1, 0, 0, 1, 30, 2785.0, 5484.0, 58],\n",
       "       [1, 0, 0, 0, 7, 5063.0, 6979.0, 80],\n",
       "       [0, 1, 0, 0, 18, 505.0, 2928.0, 4],\n",
       "       [1, 1, 0, 0, 23, 0.0, 2500.0, 1],\n",
       "       [1, 1, 1, 1, 91, 0.0, 6608.0, 76],\n",
       "       [0, 1, 0, 0, 53, 1459.0, 5126.0, 53],\n",
       "       [1, 1, 0, 1, 57, 1483.0, 5297.0, 55],\n",
       "       [1, 0, 0, 0, 6, 33837.0, 35673.0, 116],\n",
       "       [1, 0, 3, 0, 102, 3000.0, 15500.0, 114],\n",
       "       [1, 1, 2, 0, 100, 0.0, 9703.0, 97],\n",
       "       [0, 0, 0, 0, 63, 0.0, 4166.0, 25],\n",
       "       [0, 0, 0, 0, 0, 3683.0, 4328.0, 32],\n",
       "       [1, 1, 1, 0, 106, 0.0, 18333.0, 115],\n",
       "       [0, 0, 0, 0, 94, 0.0, 7441.0, 86],\n",
       "       [1, 1, 0, 0, 23, 0.0, 2500.0, 1],\n",
       "       [1, 0, 0, 0, 39, 0.0, 3069.0, 5],\n",
       "       [1, 1, 0, 0, 71, 2857.0, 7482.0, 87],\n",
       "       [1, 1, 0, 0, 33, 2016.0, 4801.0, 44],\n",
       "       [1, 1, 2, 0, 40, 8106.0, 11179.0, 105],\n",
       "       [1, 0, 1, 0, 53, 0.0, 3667.0, 16],\n",
       "       [1, 1, 1, 0, 22, 2054.0, 4545.0, 35],\n",
       "       [0, 1, 0, 1, 8, 1644.0, 3572.0, 15],\n",
       "       [1, 0, 0, 0, 41, 0.0, 3167.0, 6],\n",
       "       [1, 1, 1, 0, 66, 3000.0, 7283.0, 85],\n",
       "       [1, 1, 3, 0, 41, 4000.0, 7167.0, 84],\n",
       "       [1, 1, 0, 0, 23, 0.0, 2500.0, 1],\n",
       "       [1, 0, 0, 1, 43, 2254.0, 5454.0, 57],\n",
       "       [1, 0, 0, 0, 92, 0.0, 6950.0, 79],\n",
       "       [1, 0, 0, 0, 37, 2791.0, 5762.0, 63],\n",
       "       [1, 1, 2, 1, 45, 1820.0, 5093.0, 50],\n",
       "       [1, 1, 1, 0, 99, 0.0, 9538.0, 96],\n",
       "       [1, 1, 0, 0, 80, 2054.0, 7977.0, 89],\n",
       "       [1, 1, 0, 0, 5, 1719.0, 3539.0, 14],\n",
       "       [1, 1, 2, 0, 79, 5000.0, 10819.0, 102],\n",
       "       [1, 0, 0, 0, 83, 4333.0, 10383.0, 101],\n",
       "       [1, 1, 0, 0, 23, 0.0, 2500.0, 1],\n",
       "       [1, 0, 0, 0, 75, 0.0, 4950.0, 48],\n",
       "       [1, 0, 0, 1, 25, 2167.0, 4750.0, 41],\n",
       "       [0, 0, 0, 0, 47, 0.0, 3410.0, 9],\n",
       "       [1, 1, 0, 1, 14, 1516.0, 3849.0, 19],\n",
       "       [1, 1, 3, 1, 51, 0.0, 3522.0, 13],\n",
       "       [1, 0, 0, 0, 89, 0.0, 6400.0, 73],\n",
       "       [0, 0, 0, 0, 48, 0.0, 3418.0, 10],\n",
       "       [1, 0, 0, 0, 56, 0.0, 3750.0, 17],\n",
       "       [1, 1, 2, 0, 43, 700.0, 3900.0, 22],\n",
       "       [1, 1, 0, 1, 4, 3890.0, 5558.0, 61],\n",
       "       [1, 1, 0, 0, 21, 2466.0, 4949.0, 47],\n",
       "       [0, 0, 0, 0, 29, 1625.0, 4292.0, 29],\n",
       "       [1, 0, 0, 0, 9, 2209.0, 4269.0, 28],\n",
       "       [1, 1, 2, 0, 23, 4600.0, 7100.0, 83],\n",
       "       [1, 1, 3, 0, 97, 4996.0, 13746.0, 111],\n",
       "       [1, 1, 0, 0, 104, 0.0, 14583.0, 112],\n",
       "       [1, 1, 3, 1, 36, 1664.0, 4611.0, 39],\n",
       "       [1, 1, 1, 0, 3, 1803.0, 3428.0, 11]], dtype=object)"
      ]
     },
     "execution_count": 33,
     "metadata": {},
     "output_type": "execute_result"
    }
   ],
   "source": [
    "# Exploring 'x_test' after converting\n",
    "x_test"
   ]
  },
  {
   "cell_type": "code",
   "execution_count": 34,
   "id": "730bd173",
   "metadata": {},
   "outputs": [],
   "source": [
    "# Converting 'y_test' into numerical values\n",
    "labelencoder_y = LabelEncoder()\n",
    "labelencoder_y\n",
    "y_test = labelencoder_y.fit_transform(y_test)"
   ]
  },
  {
   "cell_type": "code",
   "execution_count": 35,
   "id": "1a1098d1",
   "metadata": {
    "scrolled": true
   },
   "outputs": [
    {
     "data": {
      "text/plain": [
       "array([1, 0, 1, 0, 1, 0, 1, 1, 0, 1, 1, 1, 1, 1, 1, 0, 0, 1, 1, 0, 0, 1,\n",
       "       1, 1, 1, 1, 1, 1, 0, 0, 1, 1, 1, 1, 1, 0, 1, 1, 1, 1, 1, 0, 1, 1,\n",
       "       1, 1, 1, 1, 0, 1, 1, 1, 1, 1, 1, 1, 1, 0, 1, 1, 1, 0, 1, 0, 1, 1,\n",
       "       1, 1, 1, 1, 0, 1, 1, 1, 1, 1, 0, 0, 1, 0, 1, 0, 0, 1, 0, 1, 1, 1,\n",
       "       1, 1, 1, 0, 0, 0, 1, 0, 1, 1, 1, 1, 1, 1, 1, 0, 1, 1, 1, 1, 1, 0,\n",
       "       1, 0, 0, 1, 0, 1, 1, 1, 1, 1, 1, 0, 1])"
      ]
     },
     "execution_count": 35,
     "metadata": {},
     "output_type": "execute_result"
    }
   ],
   "source": [
    "# Exploring 'y_test' after converting\n",
    "y_test"
   ]
  },
  {
   "cell_type": "code",
   "execution_count": 36,
   "id": "a31b6136",
   "metadata": {},
   "outputs": [],
   "source": [
    "# Now scale the dataset \n",
    "\n",
    "from sklearn.preprocessing import StandardScaler\n",
    "\n",
    "ss = StandardScaler()\n",
    "x_train = ss.fit_transform(x_train)\n",
    "x_test = ss.fit_transform(x_test)"
   ]
  },
  {
   "cell_type": "markdown",
   "id": "ffe1f26a",
   "metadata": {},
   "source": [
    "# ------------Completed Pre-processing of Data------------"
   ]
  },
  {
   "cell_type": "markdown",
   "id": "3a9a0d0c",
   "metadata": {},
   "source": [
    "# ------------Start applying algorithms on a dataset------------"
   ]
  },
  {
   "cell_type": "code",
   "execution_count": 73,
   "id": "e6c1476f",
   "metadata": {},
   "outputs": [
    {
     "name": "stdout",
     "output_type": "stream",
     "text": [
      "The Accurcy of decision tree is: 0.4959349593495935\n"
     ]
    }
   ],
   "source": [
    "# Importing the Decision Tree Classifier library\n",
    "from sklearn.tree import DecisionTreeClassifier\n",
    "\n",
    "# Intializing the Decision Tree Classifier\n",
    "DTClassifier = DecisionTreeClassifier(criterion='entropy',random_state=0)\n",
    "\n",
    "# Providing training dataset to alogorithm\n",
    "DTClassifier.fit(x_train,y_train)\n",
    "\n",
    "# Use the Decision Tree Classifier algorithm to predit the values of test dataset\n",
    "y_pred = DTClassifier.predict(x_test)\n",
    "y_pred\n",
    "\n",
    "# Testing the accuracy of prediction by finding its accuracy\n",
    "# Importing metrics library to check the accuracy of prediction\n",
    "from sklearn import metrics\n",
    "\n",
    "# Printing the accuracy of Decision Tree Classifier prediction\n",
    "print('The Accurcy of decision tree is:',metrics.accuracy_score(y_pred,y_test))"
   ]
  },
  {
   "cell_type": "code",
   "execution_count": 38,
   "id": "18d3115f",
   "metadata": {
    "collapsed": true
   },
   "outputs": [
    {
     "data": {
      "text/plain": [
       "array([0, 0, 1, 0, 0, 1, 1, 0, 1, 1, 0, 0, 1, 1, 0, 0, 1, 0, 0, 0, 1, 1,\n",
       "       0, 0, 1, 0, 1, 1, 1, 1, 1, 1, 0, 0, 1, 1, 1, 1, 1, 0, 0, 1, 0, 1,\n",
       "       0, 0, 0, 0, 1, 1, 0, 0, 1, 1, 1, 1, 1, 0, 1, 0, 0, 1, 1, 0, 0, 1,\n",
       "       1, 0, 0, 0, 0, 1, 0, 1, 1, 1, 0, 1, 0, 0, 0, 0, 1, 0, 0, 0, 1, 1,\n",
       "       0, 1, 1, 0, 0, 1, 0, 1, 0, 1, 0, 0, 0, 1, 1, 1, 0, 1, 1, 0, 0, 0,\n",
       "       1, 0, 0, 0, 1, 1, 1, 0, 0, 1, 1, 1, 1])"
      ]
     },
     "execution_count": 38,
     "metadata": {},
     "output_type": "execute_result"
    }
   ],
   "source": [
    "# Use the Decision Tree Classifier algorithm to predit the values of test dataset\n",
    "y_pred = DTClassifier.predict(x_test)\n",
    "y_pred"
   ]
  },
  {
   "cell_type": "code",
   "execution_count": 41,
   "id": "b407bc66",
   "metadata": {},
   "outputs": [
    {
     "name": "stdout",
     "output_type": "stream",
     "text": [
      "The Accurcy of decision tree is: 0.4959349593495935\n"
     ]
    }
   ],
   "source": [
    "# Testing the accuracy of prediction by finding its accuracy\n",
    "# Importing metrics library to check the accuracy of prediction\n",
    "from sklearn import metrics\n",
    "\n",
    "# Printing the accuracy of Decision Tree Classifier prediction\n",
    "print('The Accurcy of decision tree is:',metrics.accuracy_score(y_pred,y_test))"
   ]
  },
  {
   "cell_type": "code",
   "execution_count": 42,
   "id": "f14b0727",
   "metadata": {
    "scrolled": true
   },
   "outputs": [
    {
     "data": {
      "text/html": [
       "<style>#sk-container-id-2 {color: black;}#sk-container-id-2 pre{padding: 0;}#sk-container-id-2 div.sk-toggleable {background-color: white;}#sk-container-id-2 label.sk-toggleable__label {cursor: pointer;display: block;width: 100%;margin-bottom: 0;padding: 0.3em;box-sizing: border-box;text-align: center;}#sk-container-id-2 label.sk-toggleable__label-arrow:before {content: \"▸\";float: left;margin-right: 0.25em;color: #696969;}#sk-container-id-2 label.sk-toggleable__label-arrow:hover:before {color: black;}#sk-container-id-2 div.sk-estimator:hover label.sk-toggleable__label-arrow:before {color: black;}#sk-container-id-2 div.sk-toggleable__content {max-height: 0;max-width: 0;overflow: hidden;text-align: left;background-color: #f0f8ff;}#sk-container-id-2 div.sk-toggleable__content pre {margin: 0.2em;color: black;border-radius: 0.25em;background-color: #f0f8ff;}#sk-container-id-2 input.sk-toggleable__control:checked~div.sk-toggleable__content {max-height: 200px;max-width: 100%;overflow: auto;}#sk-container-id-2 input.sk-toggleable__control:checked~label.sk-toggleable__label-arrow:before {content: \"▾\";}#sk-container-id-2 div.sk-estimator input.sk-toggleable__control:checked~label.sk-toggleable__label {background-color: #d4ebff;}#sk-container-id-2 div.sk-label input.sk-toggleable__control:checked~label.sk-toggleable__label {background-color: #d4ebff;}#sk-container-id-2 input.sk-hidden--visually {border: 0;clip: rect(1px 1px 1px 1px);clip: rect(1px, 1px, 1px, 1px);height: 1px;margin: -1px;overflow: hidden;padding: 0;position: absolute;width: 1px;}#sk-container-id-2 div.sk-estimator {font-family: monospace;background-color: #f0f8ff;border: 1px dotted black;border-radius: 0.25em;box-sizing: border-box;margin-bottom: 0.5em;}#sk-container-id-2 div.sk-estimator:hover {background-color: #d4ebff;}#sk-container-id-2 div.sk-parallel-item::after {content: \"\";width: 100%;border-bottom: 1px solid gray;flex-grow: 1;}#sk-container-id-2 div.sk-label:hover label.sk-toggleable__label {background-color: #d4ebff;}#sk-container-id-2 div.sk-serial::before {content: \"\";position: absolute;border-left: 1px solid gray;box-sizing: border-box;top: 0;bottom: 0;left: 50%;z-index: 0;}#sk-container-id-2 div.sk-serial {display: flex;flex-direction: column;align-items: center;background-color: white;padding-right: 0.2em;padding-left: 0.2em;position: relative;}#sk-container-id-2 div.sk-item {position: relative;z-index: 1;}#sk-container-id-2 div.sk-parallel {display: flex;align-items: stretch;justify-content: center;background-color: white;position: relative;}#sk-container-id-2 div.sk-item::before, #sk-container-id-2 div.sk-parallel-item::before {content: \"\";position: absolute;border-left: 1px solid gray;box-sizing: border-box;top: 0;bottom: 0;left: 50%;z-index: -1;}#sk-container-id-2 div.sk-parallel-item {display: flex;flex-direction: column;z-index: 1;position: relative;background-color: white;}#sk-container-id-2 div.sk-parallel-item:first-child::after {align-self: flex-end;width: 50%;}#sk-container-id-2 div.sk-parallel-item:last-child::after {align-self: flex-start;width: 50%;}#sk-container-id-2 div.sk-parallel-item:only-child::after {width: 0;}#sk-container-id-2 div.sk-dashed-wrapped {border: 1px dashed gray;margin: 0 0.4em 0.5em 0.4em;box-sizing: border-box;padding-bottom: 0.4em;background-color: white;}#sk-container-id-2 div.sk-label label {font-family: monospace;font-weight: bold;display: inline-block;line-height: 1.2em;}#sk-container-id-2 div.sk-label-container {text-align: center;}#sk-container-id-2 div.sk-container {/* jupyter's `normalize.less` sets `[hidden] { display: none; }` but bootstrap.min.css set `[hidden] { display: none !important; }` so we also need the `!important` here to be able to override the default hidden behavior on the sphinx rendered scikit-learn.org. See: https://github.com/scikit-learn/scikit-learn/issues/21755 */display: inline-block !important;position: relative;}#sk-container-id-2 div.sk-text-repr-fallback {display: none;}</style><div id=\"sk-container-id-2\" class=\"sk-top-container\"><div class=\"sk-text-repr-fallback\"><pre>GaussianNB()</pre><b>In a Jupyter environment, please rerun this cell to show the HTML representation or trust the notebook. <br />On GitHub, the HTML representation is unable to render, please try loading this page with nbviewer.org.</b></div><div class=\"sk-container\" hidden><div class=\"sk-item\"><div class=\"sk-estimator sk-toggleable\"><input class=\"sk-toggleable__control sk-hidden--visually\" id=\"sk-estimator-id-2\" type=\"checkbox\" checked><label for=\"sk-estimator-id-2\" class=\"sk-toggleable__label sk-toggleable__label-arrow\">GaussianNB</label><div class=\"sk-toggleable__content\"><pre>GaussianNB()</pre></div></div></div></div></div>"
      ],
      "text/plain": [
       "GaussianNB()"
      ]
     },
     "execution_count": 42,
     "metadata": {},
     "output_type": "execute_result"
    }
   ],
   "source": [
    "# Importing Naive Bayes and intializing it\n",
    "from sklearn.naive_bayes import GaussianNB\n",
    "\n",
    "\n",
    "NBClassifier = GaussianNB()\n",
    "NBClassifier.fit(x_train,y_train)"
   ]
  },
  {
   "cell_type": "code",
   "execution_count": 43,
   "id": "e7e3c90e",
   "metadata": {
    "scrolled": false
   },
   "outputs": [
    {
     "data": {
      "text/plain": [
       "array([1, 1, 1, 1, 1, 1, 1, 1, 1, 1, 1, 1, 1, 1, 1, 1, 1, 1, 1, 1, 1, 1,\n",
       "       1, 1, 1, 1, 1, 1, 1, 1, 1, 1, 1, 1, 1, 1, 1, 1, 1, 1, 1, 1, 1, 1,\n",
       "       1, 1, 1, 1, 1, 1, 1, 1, 1, 1, 1, 1, 1, 1, 1, 1, 0, 1, 1, 1, 1, 1,\n",
       "       1, 1, 1, 1, 1, 1, 1, 1, 1, 1, 0, 1, 1, 1, 1, 0, 1, 1, 1, 1, 1, 1,\n",
       "       1, 1, 1, 1, 1, 1, 1, 1, 1, 1, 1, 1, 1, 1, 1, 1, 1, 1, 1, 1, 1, 1,\n",
       "       1, 1, 1, 1, 1, 1, 1, 1, 1, 1, 1, 1, 1])"
      ]
     },
     "execution_count": 43,
     "metadata": {},
     "output_type": "execute_result"
    }
   ],
   "source": [
    "# Use the Naive Bayes to predict the values of test dataset\n",
    "y_pred = NBClassifier.predict(x_test)\n",
    "y_pred"
   ]
  },
  {
   "cell_type": "code",
   "execution_count": 77,
   "id": "4670ce43",
   "metadata": {
    "scrolled": false
   },
   "outputs": [
    {
     "name": "stdout",
     "output_type": "stream",
     "text": [
      "The Accurcy of Naive Bayes is: 0.4959349593495935\n"
     ]
    }
   ],
   "source": [
    "# Printing the accuracy of Naive Bayes prediction\n",
    "print('The Accurcy of Naive Bayes is:',metrics.accuracy_score(y_pred,y_test))"
   ]
  },
  {
   "cell_type": "code",
   "execution_count": 45,
   "id": "89e7d074",
   "metadata": {},
   "outputs": [
    {
     "data": {
      "image/png": "[encoded data removed]",
      "text/plain": [
       "<Figure size 600x400 with 2 Axes>"
      ]
     },
     "metadata": {},
     "output_type": "display_data"
    }
   ],
   "source": [
    "from sklearn.metrics import confusion_matrix\n",
    "import seaborn as sns\n",
    "import matplotlib.pyplot as plt\n",
    "\n",
    "# Assuming y_test and y_pred are your true and predicted labels\n",
    "# Create a confusion matrix\n",
    "conf_matrix = confusion_matrix(y_test, y_pred)\n",
    "\n",
    "# Plot the confusion matrix\n",
    "plt.figure(figsize=(6, 4))\n",
    "sns.heatmap(conf_matrix, annot=True, cmap='Blues', fmt='d')\n",
    "plt.title('Confusion Matrix')\n",
    "plt.xlabel('Predicted')\n",
    "plt.ylabel('True')\n",
    "plt.show()\n"
   ]
  },
  {
   "cell_type": "code",
   "execution_count": null,
   "id": "abcf586a",
   "metadata": {},
   "outputs": [],
   "source": []
  },
  {
   "cell_type": "code",
   "execution_count": null,
   "id": "6d255e3e",
   "metadata": {},
   "outputs": [],
   "source": []
  },
  {
   "cell_type": "code",
   "execution_count": null,
   "id": "f0dd9384",
   "metadata": {},
   "outputs": [],
   "source": []
  },
  {
   "cell_type": "code",
   "execution_count": 82,
   "id": "19e2c932",
   "metadata": {},
   "outputs": [],
   "source": [
    "# # Importing Logestic Regression and intializing it\n",
    "from sklearn.linear_model import LogisticRegression\n",
    "logistic_reg = LogisticRegression()"
   ]
  },
  {
   "cell_type": "code",
   "execution_count": 83,
   "id": "66205906",
   "metadata": {
    "scrolled": false
   },
   "outputs": [
    {
     "data": {
      "text/html": [
       "<style>#sk-container-id-7 {color: black;}#sk-container-id-7 pre{padding: 0;}#sk-container-id-7 div.sk-toggleable {background-color: white;}#sk-container-id-7 label.sk-toggleable__label {cursor: pointer;display: block;width: 100%;margin-bottom: 0;padding: 0.3em;box-sizing: border-box;text-align: center;}#sk-container-id-7 label.sk-toggleable__label-arrow:before {content: \"▸\";float: left;margin-right: 0.25em;color: #696969;}#sk-container-id-7 label.sk-toggleable__label-arrow:hover:before {color: black;}#sk-container-id-7 div.sk-estimator:hover label.sk-toggleable__label-arrow:before {color: black;}#sk-container-id-7 div.sk-toggleable__content {max-height: 0;max-width: 0;overflow: hidden;text-align: left;background-color: #f0f8ff;}#sk-container-id-7 div.sk-toggleable__content pre {margin: 0.2em;color: black;border-radius: 0.25em;background-color: #f0f8ff;}#sk-container-id-7 input.sk-toggleable__control:checked~div.sk-toggleable__content {max-height: 200px;max-width: 100%;overflow: auto;}#sk-container-id-7 input.sk-toggleable__control:checked~label.sk-toggleable__label-arrow:before {content: \"▾\";}#sk-container-id-7 div.sk-estimator input.sk-toggleable__control:checked~label.sk-toggleable__label {background-color: #d4ebff;}#sk-container-id-7 div.sk-label input.sk-toggleable__control:checked~label.sk-toggleable__label {background-color: #d4ebff;}#sk-container-id-7 input.sk-hidden--visually {border: 0;clip: rect(1px 1px 1px 1px);clip: rect(1px, 1px, 1px, 1px);height: 1px;margin: -1px;overflow: hidden;padding: 0;position: absolute;width: 1px;}#sk-container-id-7 div.sk-estimator {font-family: monospace;background-color: #f0f8ff;border: 1px dotted black;border-radius: 0.25em;box-sizing: border-box;margin-bottom: 0.5em;}#sk-container-id-7 div.sk-estimator:hover {background-color: #d4ebff;}#sk-container-id-7 div.sk-parallel-item::after {content: \"\";width: 100%;border-bottom: 1px solid gray;flex-grow: 1;}#sk-container-id-7 div.sk-label:hover label.sk-toggleable__label {background-color: #d4ebff;}#sk-container-id-7 div.sk-serial::before {content: \"\";position: absolute;border-left: 1px solid gray;box-sizing: border-box;top: 0;bottom: 0;left: 50%;z-index: 0;}#sk-container-id-7 div.sk-serial {display: flex;flex-direction: column;align-items: center;background-color: white;padding-right: 0.2em;padding-left: 0.2em;position: relative;}#sk-container-id-7 div.sk-item {position: relative;z-index: 1;}#sk-container-id-7 div.sk-parallel {display: flex;align-items: stretch;justify-content: center;background-color: white;position: relative;}#sk-container-id-7 div.sk-item::before, #sk-container-id-7 div.sk-parallel-item::before {content: \"\";position: absolute;border-left: 1px solid gray;box-sizing: border-box;top: 0;bottom: 0;left: 50%;z-index: -1;}#sk-container-id-7 div.sk-parallel-item {display: flex;flex-direction: column;z-index: 1;position: relative;background-color: white;}#sk-container-id-7 div.sk-parallel-item:first-child::after {align-self: flex-end;width: 50%;}#sk-container-id-7 div.sk-parallel-item:last-child::after {align-self: flex-start;width: 50%;}#sk-container-id-7 div.sk-parallel-item:only-child::after {width: 0;}#sk-container-id-7 div.sk-dashed-wrapped {border: 1px dashed gray;margin: 0 0.4em 0.5em 0.4em;box-sizing: border-box;padding-bottom: 0.4em;background-color: white;}#sk-container-id-7 div.sk-label label {font-family: monospace;font-weight: bold;display: inline-block;line-height: 1.2em;}#sk-container-id-7 div.sk-label-container {text-align: center;}#sk-container-id-7 div.sk-container {/* jupyter's `normalize.less` sets `[hidden] { display: none; }` but bootstrap.min.css set `[hidden] { display: none !important; }` so we also need the `!important` here to be able to override the default hidden behavior on the sphinx rendered scikit-learn.org. See: https://github.com/scikit-learn/scikit-learn/issues/21755 */display: inline-block !important;position: relative;}#sk-container-id-7 div.sk-text-repr-fallback {display: none;}</style><div id=\"sk-container-id-7\" class=\"sk-top-container\"><div class=\"sk-text-repr-fallback\"><pre>LogisticRegression()</pre><b>In a Jupyter environment, please rerun this cell to show the HTML representation or trust the notebook. <br />On GitHub, the HTML representation is unable to render, please try loading this page with nbviewer.org.</b></div><div class=\"sk-container\" hidden><div class=\"sk-item\"><div class=\"sk-estimator sk-toggleable\"><input class=\"sk-toggleable__control sk-hidden--visually\" id=\"sk-estimator-id-7\" type=\"checkbox\" checked><label for=\"sk-estimator-id-7\" class=\"sk-toggleable__label sk-toggleable__label-arrow\">LogisticRegression</label><div class=\"sk-toggleable__content\"><pre>LogisticRegression()</pre></div></div></div></div></div>"
      ],
      "text/plain": [
       "LogisticRegression()"
      ]
     },
     "execution_count": 83,
     "metadata": {},
     "output_type": "execute_result"
    }
   ],
   "source": [
    "# Train the model on the training data\n",
    "logistic_reg.fit(x_train, y_train)"
   ]
  },
  {
   "cell_type": "code",
   "execution_count": 89,
   "id": "c9a78507",
   "metadata": {},
   "outputs": [],
   "source": [
    "# Predict on the test data\n",
    "y_predLR = logistic_reg.predict(x_test)"
   ]
  },
  {
   "cell_type": "code",
   "execution_count": 90,
   "id": "72999ca7",
   "metadata": {
    "scrolled": true
   },
   "outputs": [
    {
     "data": {
      "text/plain": [
       "array([1, 1, 1, 1, 1, 1, 1, 1, 1, 1, 1, 1, 1, 1, 1, 1, 1, 1, 1, 1, 1, 1,\n",
       "       1, 1, 1, 1, 1, 1, 1, 1, 1, 0, 1, 1, 1, 1, 1, 1, 1, 1, 1, 1, 1, 1,\n",
       "       1, 1, 1, 1, 1, 1, 1, 1, 1, 1, 1, 1, 1, 0, 1, 1, 1, 1, 1, 1, 1, 1,\n",
       "       1, 1, 1, 1, 1, 1, 1, 1, 1, 1, 0, 1, 1, 1, 1, 1, 1, 1, 1, 1, 1, 1,\n",
       "       1, 1, 1, 1, 1, 1, 1, 1, 1, 1, 1, 1, 1, 1, 1, 1, 1, 1, 1, 1, 1, 1,\n",
       "       1, 1, 1, 1, 1, 1, 1, 1, 1, 1, 1, 1, 1])"
      ]
     },
     "execution_count": 90,
     "metadata": {},
     "output_type": "execute_result"
    }
   ],
   "source": [
    "y_predLR"
   ]
  },
  {
   "cell_type": "code",
   "execution_count": 91,
   "id": "0dc6c544",
   "metadata": {
    "scrolled": true
   },
   "outputs": [
    {
     "name": "stdout",
     "output_type": "stream",
     "text": [
      "The Accurcy of Logistic Regression is: 0.7398373983739838\n"
     ]
    }
   ],
   "source": [
    "from sklearn.metrics import accuracy_score\n",
    "from sklearn import metrics\n",
    "print('The Accurcy of Logistic Regression is:',metrics.accuracy_score(y_pred,y_test))"
   ]
  },
  {
   "cell_type": "code",
   "execution_count": 92,
   "id": "c6609011",
   "metadata": {},
   "outputs": [
    {
     "data": {
      "image/png": "[encoded data removed]",
      "text/plain": [
       "<Figure size 600x400 with 2 Axes>"
      ]
     },
     "metadata": {},
     "output_type": "display_data"
    }
   ],
   "source": [
    "from sklearn.metrics import confusion_matrix\n",
    "import seaborn as sns\n",
    "import matplotlib.pyplot as plt\n",
    "\n",
    "# Assuming y_test and y_pred are your true and predicted labels\n",
    "# Create a confusion matrix\n",
    "conf_matrix = confusion_matrix(y_pred, y_test)\n",
    "\n",
    "# Plot the confusion matrix\n",
    "plt.figure(figsize=(6, 4))\n",
    "sns.heatmap(conf_matrix, annot=True, cmap='Blues', fmt='d')\n",
    "plt.title('Confusion Matrix')\n",
    "plt.xlabel('Predicted')\n",
    "plt.ylabel('True')\n",
    "plt.show()"
   ]
  },
  {
   "cell_type": "code",
   "execution_count": null,
   "id": "5e596e01",
   "metadata": {},
   "outputs": [],
   "source": []
  },
  {
   "cell_type": "code",
   "execution_count": null,
   "id": "c5937719",
   "metadata": {},
   "outputs": [],
   "source": []
  },
  {
   "cell_type": "code",
   "execution_count": null,
   "id": "4507c0c8",
   "metadata": {},
   "outputs": [],
   "source": []
  },
  {
   "cell_type": "code",
   "execution_count": 55,
   "id": "502bb859",
   "metadata": {
    "scrolled": true
   },
   "outputs": [
    {
     "data": {
      "text/html": [
       "<div>\n",
       "<style scoped>\n",
       "    .dataframe tbody tr th:only-of-type {\n",
       "        vertical-align: middle;\n",
       "    }\n",
       "\n",
       "    .dataframe tbody tr th {\n",
       "        vertical-align: top;\n",
       "    }\n",
       "\n",
       "    .dataframe thead th {\n",
       "        text-align: right;\n",
       "    }\n",
       "</style>\n",
       "<table border=\"1\" class=\"dataframe\">\n",
       "  <thead>\n",
       "    <tr style=\"text-align: right;\">\n",
       "      <th></th>\n",
       "      <th>Applicant_ID</th>\n",
       "      <th>Gender</th>\n",
       "      <th>Married</th>\n",
       "      <th>Dependents</th>\n",
       "      <th>Education</th>\n",
       "      <th>Self_Employed</th>\n",
       "      <th>ApplicantIncome</th>\n",
       "      <th>CoapplicantIncome</th>\n",
       "      <th>University Rank</th>\n",
       "      <th>Visa_Status</th>\n",
       "      <th>Top University</th>\n",
       "      <th>TotalIncome</th>\n",
       "      <th>TotalIncome_log</th>\n",
       "    </tr>\n",
       "  </thead>\n",
       "  <tbody>\n",
       "    <tr>\n",
       "      <th>0</th>\n",
       "      <td>LP001002</td>\n",
       "      <td>Male</td>\n",
       "      <td>No</td>\n",
       "      <td>0</td>\n",
       "      <td>Graduate</td>\n",
       "      <td>No</td>\n",
       "      <td>5849.0</td>\n",
       "      <td>0.0</td>\n",
       "      <td>205</td>\n",
       "      <td>Y</td>\n",
       "      <td>Y</td>\n",
       "      <td>5849.0</td>\n",
       "      <td>8.674026</td>\n",
       "    </tr>\n",
       "    <tr>\n",
       "      <th>1</th>\n",
       "      <td>LP001003</td>\n",
       "      <td>Male</td>\n",
       "      <td>Yes</td>\n",
       "      <td>1</td>\n",
       "      <td>Graduate</td>\n",
       "      <td>No</td>\n",
       "      <td>4583.0</td>\n",
       "      <td>1508.0</td>\n",
       "      <td>79</td>\n",
       "      <td>N</td>\n",
       "      <td>N</td>\n",
       "      <td>6091.0</td>\n",
       "      <td>8.714568</td>\n",
       "    </tr>\n",
       "    <tr>\n",
       "      <th>2</th>\n",
       "      <td>LP001005</td>\n",
       "      <td>Male</td>\n",
       "      <td>Yes</td>\n",
       "      <td>0</td>\n",
       "      <td>Graduate</td>\n",
       "      <td>Yes</td>\n",
       "      <td>3000.0</td>\n",
       "      <td>0.0</td>\n",
       "      <td>285</td>\n",
       "      <td>Y</td>\n",
       "      <td>Y</td>\n",
       "      <td>3000.0</td>\n",
       "      <td>8.006368</td>\n",
       "    </tr>\n",
       "    <tr>\n",
       "      <th>3</th>\n",
       "      <td>LP001006</td>\n",
       "      <td>Male</td>\n",
       "      <td>Yes</td>\n",
       "      <td>0</td>\n",
       "      <td>Not Graduate</td>\n",
       "      <td>No</td>\n",
       "      <td>2583.0</td>\n",
       "      <td>2358.0</td>\n",
       "      <td>161</td>\n",
       "      <td>Y</td>\n",
       "      <td>Y</td>\n",
       "      <td>4941.0</td>\n",
       "      <td>8.505323</td>\n",
       "    </tr>\n",
       "    <tr>\n",
       "      <th>4</th>\n",
       "      <td>LP001008</td>\n",
       "      <td>Male</td>\n",
       "      <td>No</td>\n",
       "      <td>0</td>\n",
       "      <td>Graduate</td>\n",
       "      <td>No</td>\n",
       "      <td>6000.0</td>\n",
       "      <td>0.0</td>\n",
       "      <td>313</td>\n",
       "      <td>Y</td>\n",
       "      <td>Y</td>\n",
       "      <td>6000.0</td>\n",
       "      <td>8.699515</td>\n",
       "    </tr>\n",
       "    <tr>\n",
       "      <th>...</th>\n",
       "      <td>...</td>\n",
       "      <td>...</td>\n",
       "      <td>...</td>\n",
       "      <td>...</td>\n",
       "      <td>...</td>\n",
       "      <td>...</td>\n",
       "      <td>...</td>\n",
       "      <td>...</td>\n",
       "      <td>...</td>\n",
       "      <td>...</td>\n",
       "      <td>...</td>\n",
       "      <td>...</td>\n",
       "      <td>...</td>\n",
       "    </tr>\n",
       "    <tr>\n",
       "      <th>609</th>\n",
       "      <td>LP001002</td>\n",
       "      <td>Male</td>\n",
       "      <td>Yes</td>\n",
       "      <td>0</td>\n",
       "      <td>Graduate</td>\n",
       "      <td>No</td>\n",
       "      <td>2500.0</td>\n",
       "      <td>0.0</td>\n",
       "      <td>14</td>\n",
       "      <td>Y</td>\n",
       "      <td>N</td>\n",
       "      <td>2500.0</td>\n",
       "      <td>7.824046</td>\n",
       "    </tr>\n",
       "    <tr>\n",
       "      <th>610</th>\n",
       "      <td>LP001002</td>\n",
       "      <td>Male</td>\n",
       "      <td>Yes</td>\n",
       "      <td>0</td>\n",
       "      <td>Graduate</td>\n",
       "      <td>No</td>\n",
       "      <td>2500.0</td>\n",
       "      <td>0.0</td>\n",
       "      <td>126</td>\n",
       "      <td>Y</td>\n",
       "      <td>Y</td>\n",
       "      <td>2500.0</td>\n",
       "      <td>7.824046</td>\n",
       "    </tr>\n",
       "    <tr>\n",
       "      <th>611</th>\n",
       "      <td>LP001002</td>\n",
       "      <td>Male</td>\n",
       "      <td>Yes</td>\n",
       "      <td>0</td>\n",
       "      <td>Graduate</td>\n",
       "      <td>No</td>\n",
       "      <td>2500.0</td>\n",
       "      <td>0.0</td>\n",
       "      <td>253</td>\n",
       "      <td>Y</td>\n",
       "      <td>Y</td>\n",
       "      <td>2500.0</td>\n",
       "      <td>7.824046</td>\n",
       "    </tr>\n",
       "    <tr>\n",
       "      <th>612</th>\n",
       "      <td>LP001002</td>\n",
       "      <td>Male</td>\n",
       "      <td>Yes</td>\n",
       "      <td>0</td>\n",
       "      <td>Graduate</td>\n",
       "      <td>No</td>\n",
       "      <td>2500.0</td>\n",
       "      <td>0.0</td>\n",
       "      <td>268</td>\n",
       "      <td>Y</td>\n",
       "      <td>Y</td>\n",
       "      <td>2500.0</td>\n",
       "      <td>7.824046</td>\n",
       "    </tr>\n",
       "    <tr>\n",
       "      <th>613</th>\n",
       "      <td>LP001002</td>\n",
       "      <td>Male</td>\n",
       "      <td>Yes</td>\n",
       "      <td>0</td>\n",
       "      <td>Graduate</td>\n",
       "      <td>No</td>\n",
       "      <td>2500.0</td>\n",
       "      <td>0.0</td>\n",
       "      <td>500</td>\n",
       "      <td>Y</td>\n",
       "      <td>Y</td>\n",
       "      <td>2500.0</td>\n",
       "      <td>7.824046</td>\n",
       "    </tr>\n",
       "  </tbody>\n",
       "</table>\n",
       "<p>614 rows × 13 columns</p>\n",
       "</div>"
      ],
      "text/plain": [
       "    Applicant_ID Gender Married Dependents     Education Self_Employed  \\\n",
       "0       LP001002   Male      No          0      Graduate            No   \n",
       "1       LP001003   Male     Yes          1      Graduate            No   \n",
       "2       LP001005   Male     Yes          0      Graduate           Yes   \n",
       "3       LP001006   Male     Yes          0  Not Graduate            No   \n",
       "4       LP001008   Male      No          0      Graduate            No   \n",
       "..           ...    ...     ...        ...           ...           ...   \n",
       "609     LP001002   Male     Yes          0      Graduate            No   \n",
       "610     LP001002   Male     Yes          0      Graduate            No   \n",
       "611     LP001002   Male     Yes          0      Graduate            No   \n",
       "612     LP001002   Male     Yes          0      Graduate            No   \n",
       "613     LP001002   Male     Yes          0      Graduate            No   \n",
       "\n",
       "     ApplicantIncome  CoapplicantIncome  University Rank Visa_Status  \\\n",
       "0             5849.0                0.0              205           Y   \n",
       "1             4583.0             1508.0               79           N   \n",
       "2             3000.0                0.0              285           Y   \n",
       "3             2583.0             2358.0              161           Y   \n",
       "4             6000.0                0.0              313           Y   \n",
       "..               ...                ...              ...         ...   \n",
       "609           2500.0                0.0               14           Y   \n",
       "610           2500.0                0.0              126           Y   \n",
       "611           2500.0                0.0              253           Y   \n",
       "612           2500.0                0.0              268           Y   \n",
       "613           2500.0                0.0              500           Y   \n",
       "\n",
       "    Top University  TotalIncome  TotalIncome_log  \n",
       "0                Y       5849.0         8.674026  \n",
       "1                N       6091.0         8.714568  \n",
       "2                Y       3000.0         8.006368  \n",
       "3                Y       4941.0         8.505323  \n",
       "4                Y       6000.0         8.699515  \n",
       "..             ...          ...              ...  \n",
       "609              N       2500.0         7.824046  \n",
       "610              Y       2500.0         7.824046  \n",
       "611              Y       2500.0         7.824046  \n",
       "612              Y       2500.0         7.824046  \n",
       "613              Y       2500.0         7.824046  \n",
       "\n",
       "[614 rows x 13 columns]"
      ]
     },
     "execution_count": 55,
     "metadata": {},
     "output_type": "execute_result"
    }
   ],
   "source": [
    "dataset"
   ]
  },
  {
   "cell_type": "code",
   "execution_count": 451,
   "id": "455fe775",
   "metadata": {},
   "outputs": [],
   "source": [
    "#Objectives\n",
    "\n",
    "#1 Predecting the no of visa approvals\n",
    "#2 Application analysis based on top university ranking\n",
    "#3 "
   ]
  },
  {
   "cell_type": "code",
   "execution_count": 452,
   "id": "c60e6dc7",
   "metadata": {},
   "outputs": [],
   "source": [
    "import pandas as pd\n",
    "import seaborn as sns\n",
    "import matplotlib.pyplot as plt\n"
   ]
  },
  {
   "cell_type": "code",
   "execution_count": 56,
   "id": "1632f963",
   "metadata": {
    "scrolled": false
   },
   "outputs": [
    {
     "data": {
      "image/png": "[encoded data removed]",
      "text/plain": [
       "<Figure size 800x600 with 1 Axes>"
      ]
     },
     "metadata": {},
     "output_type": "display_data"
    }
   ],
   "source": [
    "# Scatterplot of ApplicantIncome vs. CoapplicantIncome\n",
    "plt.figure(figsize=(8, 6))\n",
    "sns.scatterplot(x='ApplicantIncome', y='CoapplicantIncome', data=dataset)\n",
    "plt.title('Applicant Income vs. Coapplicant Income')\n",
    "plt.xlabel('Applicant Income')\n",
    "plt.ylabel('Coapplicant Income')\n",
    "plt.show()"
   ]
  },
  {
   "cell_type": "code",
   "execution_count": 57,
   "id": "725253b8",
   "metadata": {
    "scrolled": false
   },
   "outputs": [
    {
     "data": {
      "image/png": "[encoded data removed]",
      "text/plain": [
       "<Figure size 800x600 with 1 Axes>"
      ]
     },
     "metadata": {},
     "output_type": "display_data"
    }
   ],
   "source": [
    "# Boxplot of ApplicantIncome by Education\n",
    "plt.figure(figsize=(8, 6))\n",
    "sns.boxplot(x='Education', y='ApplicantIncome', data=dataset)\n",
    "plt.title('Applicant Income by Education')\n",
    "plt.xlabel('Education')\n",
    "plt.ylabel('Applicant Income')\n",
    "plt.show()"
   ]
  },
  {
   "cell_type": "code",
   "execution_count": 51,
   "id": "607c3e2f",
   "metadata": {
    "scrolled": false
   },
   "outputs": [
    {
     "data": {
      "text/plain": [
       "Text(0.5, 1.0, 'Total Number of Applicants')"
      ]
     },
     "execution_count": 51,
     "metadata": {},
     "output_type": "execute_result"
    },
    {
     "data": {
      "image/png": "[encoded data removed]",
      "text/plain": [
       "<Figure size 800x600 with 1 Axes>"
      ]
     },
     "metadata": {},
     "output_type": "display_data"
    }
   ],
   "source": [
    "# Count the occurrences of each gender\n",
    "gender_counts = dataset['Gender'].value_counts()\n",
    "\n",
    "# Create a pie chart\n",
    "plt.figure(figsize=(8, 6))\n",
    "plt.pie(gender_counts, labels=gender_counts.index, autopct='%1.1f%%', startangle=140)\n",
    "plt.axis('equal')\n",
    "plt.legend() # Equal aspect ratio ensures that pie is drawn as a circle.\n",
    "plt.title('Total Number of Applicants')"
   ]
  },
  {
   "cell_type": "code",
   "execution_count": 50,
   "id": "14e2f189",
   "metadata": {
    "scrolled": true
   },
   "outputs": [
    {
     "data": {
      "image/png": "[encoded data removed]",
      "text/plain": [
       "<Figure size 800x600 with 1 Axes>"
      ]
     },
     "metadata": {},
     "output_type": "display_data"
    }
   ],
   "source": [
    "# Filter dataset for females\n",
    "female_applicants = dataset[dataset['Gender'] == 'Female']\n",
    "\n",
    "# Count the occurrences of approval status among female applicants\n",
    "approved_count_female = female_applicants[female_applicants['Visa_Status'] == 'Y'].shape[0]\n",
    "rejected_count_female = female_applicants[female_applicants['Visa_Status'] == 'N'].shape[0]\n",
    "\n",
    "# Create a pie chart for approved applicants among females\n",
    "labels = ['Approved', 'Rejected']\n",
    "sizes = [approved_count_female, rejected_count_female]\n",
    "\n",
    "plt.figure(figsize=(8, 6))\n",
    "plt.pie(sizes, labels=labels, autopct='%1.1f%%', startangle=140)\n",
    "plt.axis('equal')\n",
    "plt.legend()\n",
    "plt.title('Approved Applicants among Females')\n",
    "\n",
    "# Show the pie chart\n",
    "plt.show()"
   ]
  },
  {
   "cell_type": "code",
   "execution_count": 94,
   "id": "01ad008b",
   "metadata": {
    "scrolled": true
   },
   "outputs": [
    {
     "data": {
      "image/png": "[encoded data removed]",
      "text/plain": [
       "<Figure size 800x600 with 1 Axes>"
      ]
     },
     "metadata": {},
     "output_type": "display_data"
    }
   ],
   "source": [
    "# Filter dataset for females\n",
    "male_applicants = dataset[dataset['Gender'] == 'Male']\n",
    "\n",
    "# Count the occurrences of approval status among female applicants\n",
    "approved_count_male = male_applicants[male_applicants['Visa_Status'] == 'Y'].shape[0]\n",
    "rejected_count_male = male_applicants[male_applicants['Visa_Status'] == 'N'].shape[0]\n",
    "\n",
    "# Create a pie chart for approved applicants among females\n",
    "labels = ['Approved', 'Rejected']\n",
    "sizes = [approved_count_male, rejected_count_male]\n",
    "\n",
    "plt.figure(figsize=(8, 6))\n",
    "plt.pie(sizes, labels=labels, autopct='%1.1f%%', startangle=140)\n",
    "plt.axis('equal')\n",
    "plt.legend()\n",
    "plt.title('Approved Applicants among Males')\n",
    "\n",
    "# Show the pie chart\n",
    "plt.show()"
   ]
  }
 ],
 "metadata": {
  "kernelspec": {
   "display_name": "Python 3 (ipykernel)",
   "language": "python",
   "name": "python3"
  },
  "language_info": {
   "codemirror_mode": {
    "name": "ipython",
    "version": 3
   },
   "file_extension": ".py",
   "mimetype": "text/x-python",
   "name": "python",
   "nbconvert_exporter": "python",
   "pygments_lexer": "ipython3",
   "version": "3.11.4"
  }
 },
 "nbformat": 4,
 "nbformat_minor": 5
}
